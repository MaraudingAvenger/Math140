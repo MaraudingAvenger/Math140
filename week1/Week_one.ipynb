{
 "cells": [
  {
   "cell_type": "markdown",
   "metadata": {},
   "source": [
    "# Week 1\n",
    "### Section 0.3, problem 7\n",
    "\n",
    "[link to relevant section of the book](http://scidiv.bellevuecollege.edu/dh/Calculus_all/CC_0_3_functions)"
   ]
  },
  {
   "cell_type": "markdown",
   "metadata": {},
   "source": [
    "$f(x) = x^2 + 3$ , $g(x) = \\sqrt{x - 5}$ , and $h(x) = \\frac{x}{x - 2}$\n",
    "\n",
    "### (a) evaluate $f(1)$, $g(1)$, and $h(1)$"
   ]
  },
  {
   "cell_type": "code",
   "execution_count": 27,
   "metadata": {},
   "outputs": [
    {
     "name": "stdout",
     "output_type": "stream",
     "text": [
      "f of 1: 4 \n",
      "g of 1: 4i \n",
      "h of 1: -1.0\n"
     ]
    }
   ],
   "source": [
    "import math\n",
    "import numpy as np\n",
    "\n",
    "def f(x):\n",
    "    return x**2 + 3\n",
    "\n",
    "def g(x):\n",
    "    if x-5 >= 0:\n",
    "        return math.sqrt(x-5)\n",
    "    else:\n",
    "        return str(abs(x-5))+'i'\n",
    "\n",
    "\n",
    "def h(x):\n",
    "    try:\n",
    "        return x/(x-2)\n",
    "    except ZeroDivisionError:\n",
    "        return np.NaN\n",
    "\n",
    "print(\n",
    "    \"f of 1:\", f(1),\n",
    "    \"\\ng of 1:\", g(1),\n",
    "    \"\\nh of 1:\", h(1)\n",
    ")"
   ]
  },
  {
   "cell_type": "markdown",
   "metadata": {},
   "source": [
    "###  (b) graph f(x), g(x) and h(x) for $-5 \\le x \\le 10$"
   ]
  },
  {
   "cell_type": "code",
   "execution_count": 5,
   "metadata": {},
   "outputs": [
    {
     "data": {
      "text/html": [
       "\n",
       "    <div class=\"bk-root\">\n",
       "        <a href=\"https://bokeh.pydata.org\" target=\"_blank\" class=\"bk-logo bk-logo-small bk-logo-notebook\"></a>\n",
       "        <span id=\"1095\">Loading BokehJS ...</span>\n",
       "    </div>"
      ]
     },
     "metadata": {},
     "output_type": "display_data"
    },
    {
     "data": {
      "application/javascript": [
       "\n",
       "(function(root) {\n",
       "  function now() {\n",
       "    return new Date();\n",
       "  }\n",
       "\n",
       "  var force = true;\n",
       "\n",
       "  if (typeof root._bokeh_onload_callbacks === \"undefined\" || force === true) {\n",
       "    root._bokeh_onload_callbacks = [];\n",
       "    root._bokeh_is_loading = undefined;\n",
       "  }\n",
       "\n",
       "  var JS_MIME_TYPE = 'application/javascript';\n",
       "  var HTML_MIME_TYPE = 'text/html';\n",
       "  var EXEC_MIME_TYPE = 'application/vnd.bokehjs_exec.v0+json';\n",
       "  var CLASS_NAME = 'output_bokeh rendered_html';\n",
       "\n",
       "  /**\n",
       "   * Render data to the DOM node\n",
       "   */\n",
       "  function render(props, node) {\n",
       "    var script = document.createElement(\"script\");\n",
       "    node.appendChild(script);\n",
       "  }\n",
       "\n",
       "  /**\n",
       "   * Handle when an output is cleared or removed\n",
       "   */\n",
       "  function handleClearOutput(event, handle) {\n",
       "    var cell = handle.cell;\n",
       "\n",
       "    var id = cell.output_area._bokeh_element_id;\n",
       "    var server_id = cell.output_area._bokeh_server_id;\n",
       "    // Clean up Bokeh references\n",
       "    if (id != null && id in Bokeh.index) {\n",
       "      Bokeh.index[id].model.document.clear();\n",
       "      delete Bokeh.index[id];\n",
       "    }\n",
       "\n",
       "    if (server_id !== undefined) {\n",
       "      // Clean up Bokeh references\n",
       "      var cmd = \"from bokeh.io.state import curstate; print(curstate().uuid_to_server['\" + server_id + \"'].get_sessions()[0].document.roots[0]._id)\";\n",
       "      cell.notebook.kernel.execute(cmd, {\n",
       "        iopub: {\n",
       "          output: function(msg) {\n",
       "            var id = msg.content.text.trim();\n",
       "            if (id in Bokeh.index) {\n",
       "              Bokeh.index[id].model.document.clear();\n",
       "              delete Bokeh.index[id];\n",
       "            }\n",
       "          }\n",
       "        }\n",
       "      });\n",
       "      // Destroy server and session\n",
       "      var cmd = \"import bokeh.io.notebook as ion; ion.destroy_server('\" + server_id + \"')\";\n",
       "      cell.notebook.kernel.execute(cmd);\n",
       "    }\n",
       "  }\n",
       "\n",
       "  /**\n",
       "   * Handle when a new output is added\n",
       "   */\n",
       "  function handleAddOutput(event, handle) {\n",
       "    var output_area = handle.output_area;\n",
       "    var output = handle.output;\n",
       "\n",
       "    // limit handleAddOutput to display_data with EXEC_MIME_TYPE content only\n",
       "    if ((output.output_type != \"display_data\") || (!output.data.hasOwnProperty(EXEC_MIME_TYPE))) {\n",
       "      return\n",
       "    }\n",
       "\n",
       "    var toinsert = output_area.element.find(\".\" + CLASS_NAME.split(' ')[0]);\n",
       "\n",
       "    if (output.metadata[EXEC_MIME_TYPE][\"id\"] !== undefined) {\n",
       "      toinsert[toinsert.length - 1].firstChild.textContent = output.data[JS_MIME_TYPE];\n",
       "      // store reference to embed id on output_area\n",
       "      output_area._bokeh_element_id = output.metadata[EXEC_MIME_TYPE][\"id\"];\n",
       "    }\n",
       "    if (output.metadata[EXEC_MIME_TYPE][\"server_id\"] !== undefined) {\n",
       "      var bk_div = document.createElement(\"div\");\n",
       "      bk_div.innerHTML = output.data[HTML_MIME_TYPE];\n",
       "      var script_attrs = bk_div.children[0].attributes;\n",
       "      for (var i = 0; i < script_attrs.length; i++) {\n",
       "        toinsert[toinsert.length - 1].firstChild.setAttribute(script_attrs[i].name, script_attrs[i].value);\n",
       "      }\n",
       "      // store reference to server id on output_area\n",
       "      output_area._bokeh_server_id = output.metadata[EXEC_MIME_TYPE][\"server_id\"];\n",
       "    }\n",
       "  }\n",
       "\n",
       "  function register_renderer(events, OutputArea) {\n",
       "\n",
       "    function append_mime(data, metadata, element) {\n",
       "      // create a DOM node to render to\n",
       "      var toinsert = this.create_output_subarea(\n",
       "        metadata,\n",
       "        CLASS_NAME,\n",
       "        EXEC_MIME_TYPE\n",
       "      );\n",
       "      this.keyboard_manager.register_events(toinsert);\n",
       "      // Render to node\n",
       "      var props = {data: data, metadata: metadata[EXEC_MIME_TYPE]};\n",
       "      render(props, toinsert[toinsert.length - 1]);\n",
       "      element.append(toinsert);\n",
       "      return toinsert\n",
       "    }\n",
       "\n",
       "    /* Handle when an output is cleared or removed */\n",
       "    events.on('clear_output.CodeCell', handleClearOutput);\n",
       "    events.on('delete.Cell', handleClearOutput);\n",
       "\n",
       "    /* Handle when a new output is added */\n",
       "    events.on('output_added.OutputArea', handleAddOutput);\n",
       "\n",
       "    /**\n",
       "     * Register the mime type and append_mime function with output_area\n",
       "     */\n",
       "    OutputArea.prototype.register_mime_type(EXEC_MIME_TYPE, append_mime, {\n",
       "      /* Is output safe? */\n",
       "      safe: true,\n",
       "      /* Index of renderer in `output_area.display_order` */\n",
       "      index: 0\n",
       "    });\n",
       "  }\n",
       "\n",
       "  // register the mime type if in Jupyter Notebook environment and previously unregistered\n",
       "  if (root.Jupyter !== undefined) {\n",
       "    var events = require('base/js/events');\n",
       "    var OutputArea = require('notebook/js/outputarea').OutputArea;\n",
       "\n",
       "    if (OutputArea.prototype.mime_types().indexOf(EXEC_MIME_TYPE) == -1) {\n",
       "      register_renderer(events, OutputArea);\n",
       "    }\n",
       "  }\n",
       "\n",
       "  \n",
       "  if (typeof (root._bokeh_timeout) === \"undefined\" || force === true) {\n",
       "    root._bokeh_timeout = Date.now() + 5000;\n",
       "    root._bokeh_failed_load = false;\n",
       "  }\n",
       "\n",
       "  var NB_LOAD_WARNING = {'data': {'text/html':\n",
       "     \"<div style='background-color: #fdd'>\\n\"+\n",
       "     \"<p>\\n\"+\n",
       "     \"BokehJS does not appear to have successfully loaded. If loading BokehJS from CDN, this \\n\"+\n",
       "     \"may be due to a slow or bad network connection. Possible fixes:\\n\"+\n",
       "     \"</p>\\n\"+\n",
       "     \"<ul>\\n\"+\n",
       "     \"<li>re-rerun `output_notebook()` to attempt to load from CDN again, or</li>\\n\"+\n",
       "     \"<li>use INLINE resources instead, as so:</li>\\n\"+\n",
       "     \"</ul>\\n\"+\n",
       "     \"<code>\\n\"+\n",
       "     \"from bokeh.resources import INLINE\\n\"+\n",
       "     \"output_notebook(resources=INLINE)\\n\"+\n",
       "     \"</code>\\n\"+\n",
       "     \"</div>\"}};\n",
       "\n",
       "  function display_loaded() {\n",
       "    var el = document.getElementById(\"1095\");\n",
       "    if (el != null) {\n",
       "      el.textContent = \"BokehJS is loading...\";\n",
       "    }\n",
       "    if (root.Bokeh !== undefined) {\n",
       "      if (el != null) {\n",
       "        el.textContent = \"BokehJS \" + root.Bokeh.version + \" successfully loaded.\";\n",
       "      }\n",
       "    } else if (Date.now() < root._bokeh_timeout) {\n",
       "      setTimeout(display_loaded, 100)\n",
       "    }\n",
       "  }\n",
       "\n",
       "\n",
       "  function run_callbacks() {\n",
       "    try {\n",
       "      root._bokeh_onload_callbacks.forEach(function(callback) {\n",
       "        if (callback != null)\n",
       "          callback();\n",
       "      });\n",
       "    } finally {\n",
       "      delete root._bokeh_onload_callbacks\n",
       "    }\n",
       "    console.debug(\"Bokeh: all callbacks have finished\");\n",
       "  }\n",
       "\n",
       "  function load_libs(css_urls, js_urls, callback) {\n",
       "    if (css_urls == null) css_urls = [];\n",
       "    if (js_urls == null) js_urls = [];\n",
       "\n",
       "    root._bokeh_onload_callbacks.push(callback);\n",
       "    if (root._bokeh_is_loading > 0) {\n",
       "      console.debug(\"Bokeh: BokehJS is being loaded, scheduling callback at\", now());\n",
       "      return null;\n",
       "    }\n",
       "    if (js_urls == null || js_urls.length === 0) {\n",
       "      run_callbacks();\n",
       "      return null;\n",
       "    }\n",
       "    console.debug(\"Bokeh: BokehJS not loaded, scheduling load and callback at\", now());\n",
       "    root._bokeh_is_loading = css_urls.length + js_urls.length;\n",
       "\n",
       "    function on_load() {\n",
       "      root._bokeh_is_loading--;\n",
       "      if (root._bokeh_is_loading === 0) {\n",
       "        console.debug(\"Bokeh: all BokehJS libraries/stylesheets loaded\");\n",
       "        run_callbacks()\n",
       "      }\n",
       "    }\n",
       "\n",
       "    function on_error() {\n",
       "      console.error(\"failed to load \" + url);\n",
       "    }\n",
       "\n",
       "    for (var i = 0; i < css_urls.length; i++) {\n",
       "      var url = css_urls[i];\n",
       "      const element = document.createElement(\"link\");\n",
       "      element.onload = on_load;\n",
       "      element.onerror = on_error;\n",
       "      element.rel = \"stylesheet\";\n",
       "      element.type = \"text/css\";\n",
       "      element.href = url;\n",
       "      console.debug(\"Bokeh: injecting link tag for BokehJS stylesheet: \", url);\n",
       "      document.body.appendChild(element);\n",
       "    }\n",
       "\n",
       "    for (var i = 0; i < js_urls.length; i++) {\n",
       "      var url = js_urls[i];\n",
       "      var element = document.createElement('script');\n",
       "      element.onload = on_load;\n",
       "      element.onerror = on_error;\n",
       "      element.async = false;\n",
       "      element.src = url;\n",
       "      console.debug(\"Bokeh: injecting script tag for BokehJS library: \", url);\n",
       "      document.head.appendChild(element);\n",
       "    }\n",
       "  };var element = document.getElementById(\"1095\");\n",
       "  if (element == null) {\n",
       "    console.error(\"Bokeh: ERROR: autoload.js configured with elementid '1095' but no matching script tag was found. \")\n",
       "    return false;\n",
       "  }\n",
       "\n",
       "  function inject_raw_css(css) {\n",
       "    const element = document.createElement(\"style\");\n",
       "    element.appendChild(document.createTextNode(css));\n",
       "    document.body.appendChild(element);\n",
       "  }\n",
       "\n",
       "  var js_urls = [\"https://cdn.pydata.org/bokeh/release/bokeh-1.3.4.min.js\", \"https://cdn.pydata.org/bokeh/release/bokeh-widgets-1.3.4.min.js\", \"https://cdn.pydata.org/bokeh/release/bokeh-tables-1.3.4.min.js\", \"https://cdn.pydata.org/bokeh/release/bokeh-gl-1.3.4.min.js\"];\n",
       "  var css_urls = [];\n",
       "\n",
       "  var inline_js = [\n",
       "    function(Bokeh) {\n",
       "      Bokeh.set_log_level(\"info\");\n",
       "    },\n",
       "    \n",
       "    function(Bokeh) {\n",
       "      \n",
       "    },\n",
       "    function(Bokeh) {} // ensure no trailing comma for IE\n",
       "  ];\n",
       "\n",
       "  function run_inline_js() {\n",
       "    \n",
       "    if ((root.Bokeh !== undefined) || (force === true)) {\n",
       "      for (var i = 0; i < inline_js.length; i++) {\n",
       "        inline_js[i].call(root, root.Bokeh);\n",
       "      }if (force === true) {\n",
       "        display_loaded();\n",
       "      }} else if (Date.now() < root._bokeh_timeout) {\n",
       "      setTimeout(run_inline_js, 100);\n",
       "    } else if (!root._bokeh_failed_load) {\n",
       "      console.log(\"Bokeh: BokehJS failed to load within specified timeout.\");\n",
       "      root._bokeh_failed_load = true;\n",
       "    } else if (force !== true) {\n",
       "      var cell = $(document.getElementById(\"1095\")).parents('.cell').data().cell;\n",
       "      cell.output_area.append_execute_result(NB_LOAD_WARNING)\n",
       "    }\n",
       "\n",
       "  }\n",
       "\n",
       "  if (root._bokeh_is_loading === 0) {\n",
       "    console.debug(\"Bokeh: BokehJS loaded, going straight to plotting\");\n",
       "    run_inline_js();\n",
       "  } else {\n",
       "    load_libs(css_urls, js_urls, function() {\n",
       "      console.debug(\"Bokeh: BokehJS plotting callback run at\", now());\n",
       "      run_inline_js();\n",
       "    });\n",
       "  }\n",
       "}(window));"
      ],
      "application/vnd.bokehjs_load.v0+json": "\n(function(root) {\n  function now() {\n    return new Date();\n  }\n\n  var force = true;\n\n  if (typeof root._bokeh_onload_callbacks === \"undefined\" || force === true) {\n    root._bokeh_onload_callbacks = [];\n    root._bokeh_is_loading = undefined;\n  }\n\n  \n\n  \n  if (typeof (root._bokeh_timeout) === \"undefined\" || force === true) {\n    root._bokeh_timeout = Date.now() + 5000;\n    root._bokeh_failed_load = false;\n  }\n\n  var NB_LOAD_WARNING = {'data': {'text/html':\n     \"<div style='background-color: #fdd'>\\n\"+\n     \"<p>\\n\"+\n     \"BokehJS does not appear to have successfully loaded. If loading BokehJS from CDN, this \\n\"+\n     \"may be due to a slow or bad network connection. Possible fixes:\\n\"+\n     \"</p>\\n\"+\n     \"<ul>\\n\"+\n     \"<li>re-rerun `output_notebook()` to attempt to load from CDN again, or</li>\\n\"+\n     \"<li>use INLINE resources instead, as so:</li>\\n\"+\n     \"</ul>\\n\"+\n     \"<code>\\n\"+\n     \"from bokeh.resources import INLINE\\n\"+\n     \"output_notebook(resources=INLINE)\\n\"+\n     \"</code>\\n\"+\n     \"</div>\"}};\n\n  function display_loaded() {\n    var el = document.getElementById(\"1095\");\n    if (el != null) {\n      el.textContent = \"BokehJS is loading...\";\n    }\n    if (root.Bokeh !== undefined) {\n      if (el != null) {\n        el.textContent = \"BokehJS \" + root.Bokeh.version + \" successfully loaded.\";\n      }\n    } else if (Date.now() < root._bokeh_timeout) {\n      setTimeout(display_loaded, 100)\n    }\n  }\n\n\n  function run_callbacks() {\n    try {\n      root._bokeh_onload_callbacks.forEach(function(callback) {\n        if (callback != null)\n          callback();\n      });\n    } finally {\n      delete root._bokeh_onload_callbacks\n    }\n    console.debug(\"Bokeh: all callbacks have finished\");\n  }\n\n  function load_libs(css_urls, js_urls, callback) {\n    if (css_urls == null) css_urls = [];\n    if (js_urls == null) js_urls = [];\n\n    root._bokeh_onload_callbacks.push(callback);\n    if (root._bokeh_is_loading > 0) {\n      console.debug(\"Bokeh: BokehJS is being loaded, scheduling callback at\", now());\n      return null;\n    }\n    if (js_urls == null || js_urls.length === 0) {\n      run_callbacks();\n      return null;\n    }\n    console.debug(\"Bokeh: BokehJS not loaded, scheduling load and callback at\", now());\n    root._bokeh_is_loading = css_urls.length + js_urls.length;\n\n    function on_load() {\n      root._bokeh_is_loading--;\n      if (root._bokeh_is_loading === 0) {\n        console.debug(\"Bokeh: all BokehJS libraries/stylesheets loaded\");\n        run_callbacks()\n      }\n    }\n\n    function on_error() {\n      console.error(\"failed to load \" + url);\n    }\n\n    for (var i = 0; i < css_urls.length; i++) {\n      var url = css_urls[i];\n      const element = document.createElement(\"link\");\n      element.onload = on_load;\n      element.onerror = on_error;\n      element.rel = \"stylesheet\";\n      element.type = \"text/css\";\n      element.href = url;\n      console.debug(\"Bokeh: injecting link tag for BokehJS stylesheet: \", url);\n      document.body.appendChild(element);\n    }\n\n    for (var i = 0; i < js_urls.length; i++) {\n      var url = js_urls[i];\n      var element = document.createElement('script');\n      element.onload = on_load;\n      element.onerror = on_error;\n      element.async = false;\n      element.src = url;\n      console.debug(\"Bokeh: injecting script tag for BokehJS library: \", url);\n      document.head.appendChild(element);\n    }\n  };var element = document.getElementById(\"1095\");\n  if (element == null) {\n    console.error(\"Bokeh: ERROR: autoload.js configured with elementid '1095' but no matching script tag was found. \")\n    return false;\n  }\n\n  function inject_raw_css(css) {\n    const element = document.createElement(\"style\");\n    element.appendChild(document.createTextNode(css));\n    document.body.appendChild(element);\n  }\n\n  var js_urls = [\"https://cdn.pydata.org/bokeh/release/bokeh-1.3.4.min.js\", \"https://cdn.pydata.org/bokeh/release/bokeh-widgets-1.3.4.min.js\", \"https://cdn.pydata.org/bokeh/release/bokeh-tables-1.3.4.min.js\", \"https://cdn.pydata.org/bokeh/release/bokeh-gl-1.3.4.min.js\"];\n  var css_urls = [];\n\n  var inline_js = [\n    function(Bokeh) {\n      Bokeh.set_log_level(\"info\");\n    },\n    \n    function(Bokeh) {\n      \n    },\n    function(Bokeh) {} // ensure no trailing comma for IE\n  ];\n\n  function run_inline_js() {\n    \n    if ((root.Bokeh !== undefined) || (force === true)) {\n      for (var i = 0; i < inline_js.length; i++) {\n        inline_js[i].call(root, root.Bokeh);\n      }if (force === true) {\n        display_loaded();\n      }} else if (Date.now() < root._bokeh_timeout) {\n      setTimeout(run_inline_js, 100);\n    } else if (!root._bokeh_failed_load) {\n      console.log(\"Bokeh: BokehJS failed to load within specified timeout.\");\n      root._bokeh_failed_load = true;\n    } else if (force !== true) {\n      var cell = $(document.getElementById(\"1095\")).parents('.cell').data().cell;\n      cell.output_area.append_execute_result(NB_LOAD_WARNING)\n    }\n\n  }\n\n  if (root._bokeh_is_loading === 0) {\n    console.debug(\"Bokeh: BokehJS loaded, going straight to plotting\");\n    run_inline_js();\n  } else {\n    load_libs(css_urls, js_urls, function() {\n      console.debug(\"Bokeh: BokehJS plotting callback run at\", now());\n      run_inline_js();\n    });\n  }\n}(window));"
     },
     "metadata": {},
     "output_type": "display_data"
    }
   ],
   "source": [
    "from bokeh.plotting import figure, show\n",
    "from bokeh.io import output_notebook\n",
    "from bokeh.layouts import row\n",
    "\n",
    "output_notebook()"
   ]
  },
  {
   "cell_type": "code",
   "execution_count": 7,
   "metadata": {},
   "outputs": [
    {
     "data": {
      "text/html": [
       "\n",
       "\n",
       "\n",
       "\n",
       "\n",
       "\n",
       "  <div class=\"bk-root\" id=\"bc0dfcb2-a270-400e-bd1c-08b3ec59bd5d\" data-root-id=\"1457\"></div>\n"
      ]
     },
     "metadata": {},
     "output_type": "display_data"
    },
    {
     "data": {
      "application/javascript": [
       "(function(root) {\n",
       "  function embed_document(root) {\n",
       "    \n",
       "  var docs_json = {\"c8ce738e-c72b-4210-82ff-bc821c29772b\":{\"roots\":{\"references\":[{\"attributes\":{\"children\":[{\"id\":\"1358\",\"subtype\":\"Figure\",\"type\":\"Plot\"},{\"id\":\"1391\",\"subtype\":\"Figure\",\"type\":\"Plot\"},{\"id\":\"1424\",\"subtype\":\"Figure\",\"type\":\"Plot\"}]},\"id\":\"1457\",\"type\":\"Row\"},{\"attributes\":{\"data_source\":{\"id\":\"1386\",\"type\":\"ColumnDataSource\"},\"glyph\":{\"id\":\"1387\",\"type\":\"Line\"},\"hover_glyph\":null,\"muted_glyph\":null,\"nonselection_glyph\":{\"id\":\"1388\",\"type\":\"Line\"},\"selection_glyph\":null,\"view\":{\"id\":\"1390\",\"type\":\"CDSView\"}},\"id\":\"1389\",\"type\":\"GlyphRenderer\"},{\"attributes\":{\"callback\":null,\"data\":{\"x\":[-5.0,-4.99,-4.98,-4.97,-4.96,-4.95,-4.94,-4.93,-4.92,-4.91,-4.9,-4.89,-4.88,-4.87,-4.86,-4.85,-4.84,-4.83,-4.82,-4.81,-4.8,-4.79,-4.78,-4.77,-4.76,-4.75,-4.74,-4.73,-4.72,-4.71,-4.7,-4.69,-4.68,-4.67,-4.66,-4.65,-4.64,-4.63,-4.62,-4.61,-4.6,-4.59,-4.58,-4.57,-4.56,-4.55,-4.54,-4.53,-4.52,-4.51,-4.5,-4.49,-4.48,-4.47,-4.46,-4.45,-4.44,-4.43,-4.42,-4.41,-4.4,-4.39,-4.38,-4.37,-4.36,-4.35,-4.34,-4.33,-4.32,-4.31,-4.3,-4.29,-4.28,-4.27,-4.26,-4.25,-4.24,-4.23,-4.22,-4.21,-4.2,-4.19,-4.18,-4.17,-4.16,-4.15,-4.14,-4.13,-4.12,-4.11,-4.1,-4.09,-4.08,-4.07,-4.06,-4.05,-4.04,-4.03,-4.02,-4.01,-4.0,-3.99,-3.98,-3.97,-3.96,-3.95,-3.94,-3.93,-3.92,-3.91,-3.9,-3.89,-3.88,-3.87,-3.86,-3.85,-3.84,-3.83,-3.82,-3.81,-3.8,-3.79,-3.78,-3.77,-3.76,-3.75,-3.74,-3.73,-3.72,-3.71,-3.7,-3.69,-3.68,-3.67,-3.66,-3.65,-3.64,-3.63,-3.62,-3.61,-3.6,-3.59,-3.58,-3.57,-3.56,-3.55,-3.54,-3.53,-3.52,-3.51,-3.5,-3.49,-3.48,-3.47,-3.46,-3.45,-3.44,-3.43,-3.42,-3.41,-3.4,-3.39,-3.38,-3.37,-3.36,-3.35,-3.34,-3.33,-3.32,-3.31,-3.3,-3.29,-3.28,-3.27,-3.26,-3.25,-3.24,-3.23,-3.22,-3.21,-3.2,-3.19,-3.18,-3.17,-3.16,-3.15,-3.14,-3.13,-3.12,-3.11,-3.1,-3.09,-3.08,-3.07,-3.06,-3.05,-3.04,-3.03,-3.02,-3.01,-3.0,-2.99,-2.98,-2.97,-2.96,-2.95,-2.94,-2.93,-2.92,-2.91,-2.9,-2.89,-2.88,-2.87,-2.86,-2.85,-2.84,-2.83,-2.82,-2.81,-2.8,-2.79,-2.78,-2.77,-2.76,-2.75,-2.74,-2.73,-2.72,-2.71,-2.7,-2.69,-2.68,-2.67,-2.66,-2.65,-2.64,-2.63,-2.62,-2.61,-2.6,-2.59,-2.58,-2.57,-2.56,-2.55,-2.54,-2.53,-2.52,-2.51,-2.5,-2.49,-2.48,-2.47,-2.46,-2.45,-2.44,-2.43,-2.42,-2.41,-2.4,-2.39,-2.38,-2.37,-2.36,-2.35,-2.34,-2.33,-2.32,-2.31,-2.3,-2.29,-2.28,-2.27,-2.26,-2.25,-2.24,-2.23,-2.22,-2.21,-2.2,-2.19,-2.18,-2.17,-2.16,-2.15,-2.14,-2.13,-2.12,-2.11,-2.1,-2.09,-2.08,-2.07,-2.06,-2.05,-2.04,-2.03,-2.02,-2.01,-2.0,-1.99,-1.98,-1.97,-1.96,-1.95,-1.94,-1.93,-1.92,-1.91,-1.9,-1.89,-1.88,-1.87,-1.86,-1.85,-1.84,-1.83,-1.82,-1.81,-1.8,-1.79,-1.78,-1.77,-1.76,-1.75,-1.74,-1.73,-1.72,-1.71,-1.7,-1.69,-1.68,-1.67,-1.66,-1.65,-1.64,-1.63,-1.62,-1.61,-1.6,-1.59,-1.58,-1.57,-1.56,-1.55,-1.54,-1.53,-1.52,-1.51,-1.5,-1.49,-1.48,-1.47,-1.46,-1.45,-1.44,-1.43,-1.42,-1.41,-1.4,-1.39,-1.38,-1.37,-1.36,-1.35,-1.34,-1.33,-1.32,-1.31,-1.3,-1.29,-1.28,-1.27,-1.26,-1.25,-1.24,-1.23,-1.22,-1.21,-1.2,-1.19,-1.18,-1.17,-1.16,-1.15,-1.14,-1.13,-1.12,-1.11,-1.1,-1.09,-1.08,-1.07,-1.06,-1.05,-1.04,-1.03,-1.02,-1.01,-1.0,-0.99,-0.98,-0.97,-0.96,-0.95,-0.94,-0.93,-0.92,-0.91,-0.9,-0.89,-0.88,-0.87,-0.86,-0.85,-0.84,-0.83,-0.82,-0.81,-0.8,-0.79,-0.78,-0.77,-0.76,-0.75,-0.74,-0.73,-0.72,-0.71,-0.7,-0.69,-0.68,-0.67,-0.66,-0.65,-0.64,-0.63,-0.62,-0.61,-0.6,-0.59,-0.58,-0.57,-0.56,-0.55,-0.54,-0.53,-0.52,-0.51,-0.5,-0.49,-0.48,-0.47,-0.46,-0.45,-0.44,-0.43,-0.42,-0.41,-0.4,-0.39,-0.38,-0.37,-0.36,-0.35,-0.34,-0.33,-0.32,-0.31,-0.3,-0.29,-0.28,-0.27,-0.26,-0.25,-0.24,-0.23,-0.22,-0.21,-0.2,-0.19,-0.18,-0.17,-0.16,-0.15,-0.14,-0.13,-0.12,-0.11,-0.1,-0.09,-0.08,-0.07,-0.06,-0.05,-0.04,-0.03,-0.02,-0.01,0.0,0.01,0.02,0.03,0.04,0.05,0.06,0.07,0.08,0.09,0.1,0.11,0.12,0.13,0.14,0.15,0.16,0.17,0.18,0.19,0.2,0.21,0.22,0.23,0.24,0.25,0.26,0.27,0.28,0.29,0.3,0.31,0.32,0.33,0.34,0.35,0.36,0.37,0.38,0.39,0.4,0.41,0.42,0.43,0.44,0.45,0.46,0.47,0.48,0.49,0.5,0.51,0.52,0.53,0.54,0.55,0.56,0.57,0.58,0.59,0.6,0.61,0.62,0.63,0.64,0.65,0.66,0.67,0.68,0.69,0.7,0.71,0.72,0.73,0.74,0.75,0.76,0.77,0.78,0.79,0.8,0.81,0.82,0.83,0.84,0.85,0.86,0.87,0.88,0.89,0.9,0.91,0.92,0.93,0.94,0.95,0.96,0.97,0.98,0.99,1.0,1.01,1.02,1.03,1.04,1.05,1.06,1.07,1.08,1.09,1.1,1.11,1.12,1.13,1.14,1.15,1.16,1.17,1.18,1.19,1.2,1.21,1.22,1.23,1.24,1.25,1.26,1.27,1.28,1.29,1.3,1.31,1.32,1.33,1.34,1.35,1.36,1.37,1.38,1.39,1.4,1.41,1.42,1.43,1.44,1.45,1.46,1.47,1.48,1.49,1.5,1.51,1.52,1.53,1.54,1.55,1.56,1.57,1.58,1.59,1.6,1.61,1.62,1.63,1.64,1.65,1.66,1.67,1.68,1.69,1.7,1.71,1.72,1.73,1.74,1.75,1.76,1.77,1.78,1.79,1.8,1.81,1.82,1.83,1.84,1.85,1.86,1.87,1.88,1.89,1.9,1.91,1.92,1.93,1.94,1.95,1.96,1.97,1.98,1.99,2.0,2.01,2.02,2.03,2.04,2.05,2.06,2.07,2.08,2.09,2.1,2.11,2.12,2.13,2.14,2.15,2.16,2.17,2.18,2.19,2.2,2.21,2.22,2.23,2.24,2.25,2.26,2.27,2.28,2.29,2.3,2.31,2.32,2.33,2.34,2.35,2.36,2.37,2.38,2.39,2.4,2.41,2.42,2.43,2.44,2.45,2.46,2.47,2.48,2.49,2.5,2.51,2.52,2.53,2.54,2.55,2.56,2.57,2.58,2.59,2.6,2.61,2.62,2.63,2.64,2.65,2.66,2.67,2.68,2.69,2.7,2.71,2.72,2.73,2.74,2.75,2.76,2.77,2.78,2.79,2.8,2.81,2.82,2.83,2.84,2.85,2.86,2.87,2.88,2.89,2.9,2.91,2.92,2.93,2.94,2.95,2.96,2.97,2.98,2.99,3.0,3.01,3.02,3.03,3.04,3.05,3.06,3.07,3.08,3.09,3.1,3.11,3.12,3.13,3.14,3.15,3.16,3.17,3.18,3.19,3.2,3.21,3.22,3.23,3.24,3.25,3.26,3.27,3.28,3.29,3.3,3.31,3.32,3.33,3.34,3.35,3.36,3.37,3.38,3.39,3.4,3.41,3.42,3.43,3.44,3.45,3.46,3.47,3.48,3.49,3.5,3.51,3.52,3.53,3.54,3.55,3.56,3.57,3.58,3.59,3.6,3.61,3.62,3.63,3.64,3.65,3.66,3.67,3.68,3.69,3.7,3.71,3.72,3.73,3.74,3.75,3.76,3.77,3.78,3.79,3.8,3.81,3.82,3.83,3.84,3.85,3.86,3.87,3.88,3.89,3.9,3.91,3.92,3.93,3.94,3.95,3.96,3.97,3.98,3.99,4.0,4.01,4.02,4.03,4.04,4.05,4.06,4.07,4.08,4.09,4.1,4.11,4.12,4.13,4.14,4.15,4.16,4.17,4.18,4.19,4.2,4.21,4.22,4.23,4.24,4.25,4.26,4.27,4.28,4.29,4.3,4.31,4.32,4.33,4.34,4.35,4.36,4.37,4.38,4.39,4.4,4.41,4.42,4.43,4.44,4.45,4.46,4.47,4.48,4.49,4.5,4.51,4.52,4.53,4.54,4.55,4.56,4.57,4.58,4.59,4.6,4.61,4.62,4.63,4.64,4.65,4.66,4.67,4.68,4.69,4.7,4.71,4.72,4.73,4.74,4.75,4.76,4.77,4.78,4.79,4.8,4.81,4.82,4.83,4.84,4.85,4.86,4.87,4.88,4.89,4.9,4.91,4.92,4.93,4.94,4.95,4.96,4.97,4.98,4.99,5.0,5.01,5.02,5.03,5.04,5.05,5.06,5.07,5.08,5.09,5.1,5.11,5.12,5.13,5.14,5.15,5.16,5.17,5.18,5.19,5.2,5.21,5.22,5.23,5.24,5.25,5.26,5.27,5.28,5.29,5.3,5.31,5.32,5.33,5.34,5.35,5.36,5.37,5.38,5.39,5.4,5.41,5.42,5.43,5.44,5.45,5.46,5.47,5.48,5.49,5.5,5.51,5.52,5.53,5.54,5.55,5.56,5.57,5.58,5.59,5.6,5.61,5.62,5.63,5.64,5.65,5.66,5.67,5.68,5.69,5.7,5.71,5.72,5.73,5.74,5.75,5.76,5.77,5.78,5.79,5.8,5.81,5.82,5.83,5.84,5.85,5.86,5.87,5.88,5.89,5.9,5.91,5.92,5.93,5.94,5.95,5.96,5.97,5.98,5.99,6.0,6.01,6.02,6.03,6.04,6.05,6.06,6.07,6.08,6.09,6.1,6.11,6.12,6.13,6.14,6.15,6.16,6.17,6.18,6.19,6.2,6.21,6.22,6.23,6.24,6.25,6.26,6.27,6.28,6.29,6.3,6.31,6.32,6.33,6.34,6.35,6.36,6.37,6.38,6.39,6.4,6.41,6.42,6.43,6.44,6.45,6.46,6.47,6.48,6.49,6.5,6.51,6.52,6.53,6.54,6.55,6.56,6.57,6.58,6.59,6.6,6.61,6.62,6.63,6.64,6.65,6.66,6.67,6.68,6.69,6.7,6.71,6.72,6.73,6.74,6.75,6.76,6.77,6.78,6.79,6.8,6.81,6.82,6.83,6.84,6.85,6.86,6.87,6.88,6.89,6.9,6.91,6.92,6.93,6.94,6.95,6.96,6.97,6.98,6.99,7.0,7.01,7.02,7.03,7.04,7.05,7.06,7.07,7.08,7.09,7.1,7.11,7.12,7.13,7.14,7.15,7.16,7.17,7.18,7.19,7.2,7.21,7.22,7.23,7.24,7.25,7.26,7.27,7.28,7.29,7.3,7.31,7.32,7.33,7.34,7.35,7.36,7.37,7.38,7.39,7.4,7.41,7.42,7.43,7.44,7.45,7.46,7.47,7.48,7.49,7.5,7.51,7.52,7.53,7.54,7.55,7.56,7.57,7.58,7.59,7.6,7.61,7.62,7.63,7.64,7.65,7.66,7.67,7.68,7.69,7.7,7.71,7.72,7.73,7.74,7.75,7.76,7.77,7.78,7.79,7.8,7.81,7.82,7.83,7.84,7.85,7.86,7.87,7.88,7.89,7.9,7.91,7.92,7.93,7.94,7.95,7.96,7.97,7.98,7.99,8.0,8.01,8.02,8.03,8.04,8.05,8.06,8.07,8.08,8.09,8.1,8.11,8.12,8.13,8.14,8.15,8.16,8.17,8.18,8.19,8.2,8.21,8.22,8.23,8.24,8.25,8.26,8.27,8.28,8.29,8.3,8.31,8.32,8.33,8.34,8.35,8.36,8.37,8.38,8.39,8.4,8.41,8.42,8.43,8.44,8.45,8.46,8.47,8.48,8.49,8.5,8.51,8.52,8.53,8.54,8.55,8.56,8.57,8.58,8.59,8.6,8.61,8.62,8.63,8.64,8.65,8.66,8.67,8.68,8.69,8.7,8.71,8.72,8.73,8.74,8.75,8.76,8.77,8.78,8.79,8.8,8.81,8.82,8.83,8.84,8.85,8.86,8.87,8.88,8.89,8.9,8.91,8.92,8.93,8.94,8.95,8.96,8.97,8.98,8.99,9.0,9.01,9.02,9.03,9.04,9.05,9.06,9.07,9.08,9.09,9.1,9.11,9.12,9.13,9.14,9.15,9.16,9.17,9.18,9.19,9.2,9.21,9.22,9.23,9.24,9.25,9.26,9.27,9.28,9.29,9.3,9.31,9.32,9.33,9.34,9.35,9.36,9.37,9.38,9.39,9.4,9.41,9.42,9.43,9.44,9.45,9.46,9.47,9.48,9.49,9.5,9.51,9.52,9.53,9.54,9.55,9.56,9.57,9.58,9.59,9.6,9.61,9.62,9.63,9.64,9.65,9.66,9.67,9.68,9.69,9.7,9.71,9.72,9.73,9.74,9.75,9.76,9.77,9.78,9.79,9.8,9.81,9.82,9.83,9.84,9.85,9.86,9.87,9.88,9.89,9.9,9.91,9.92,9.93,9.94,9.95,9.96,9.97,9.98,9.99,10.0,10.01,10.02,10.03,10.04,10.05,10.06,10.07,10.08,10.09,10.1,10.11,10.12,10.13,10.14,10.15,10.16,10.17,10.18,10.19,10.2,10.21,10.22,10.23,10.24,10.25,10.26,10.27,10.28,10.29,10.3,10.31,10.32,10.33,10.34,10.35,10.36,10.37,10.38,10.39,10.4,10.41,10.42,10.43,10.44,10.45,10.46,10.47,10.48,10.49,10.5,10.51,10.52,10.53,10.54,10.55,10.56,10.57,10.58,10.59,10.6,10.61,10.62,10.63,10.64,10.65,10.66,10.67,10.68,10.69,10.7,10.71,10.72,10.73,10.74,10.75,10.76,10.77,10.78,10.79,10.8,10.81,10.82,10.83,10.84,10.85,10.86,10.87,10.88,10.89,10.9,10.91,10.92,10.93,10.94,10.95,10.96,10.97,10.98,10.99],\"y\":[\"NaN\",\"NaN\",\"NaN\",\"NaN\",\"NaN\",\"NaN\",\"NaN\",\"NaN\",\"NaN\",\"NaN\",\"NaN\",\"NaN\",\"NaN\",\"NaN\",\"NaN\",\"NaN\",\"NaN\",\"NaN\",\"NaN\",\"NaN\",\"NaN\",\"NaN\",\"NaN\",\"NaN\",\"NaN\",\"NaN\",\"NaN\",\"NaN\",\"NaN\",\"NaN\",\"NaN\",\"NaN\",\"NaN\",\"NaN\",\"NaN\",\"NaN\",\"NaN\",\"NaN\",\"NaN\",\"NaN\",\"NaN\",\"NaN\",\"NaN\",\"NaN\",\"NaN\",\"NaN\",\"NaN\",\"NaN\",\"NaN\",\"NaN\",\"NaN\",\"NaN\",\"NaN\",\"NaN\",\"NaN\",\"NaN\",\"NaN\",\"NaN\",\"NaN\",\"NaN\",\"NaN\",\"NaN\",\"NaN\",\"NaN\",\"NaN\",\"NaN\",\"NaN\",\"NaN\",\"NaN\",\"NaN\",\"NaN\",\"NaN\",\"NaN\",\"NaN\",\"NaN\",\"NaN\",\"NaN\",\"NaN\",\"NaN\",\"NaN\",\"NaN\",\"NaN\",\"NaN\",\"NaN\",\"NaN\",\"NaN\",\"NaN\",\"NaN\",\"NaN\",\"NaN\",\"NaN\",\"NaN\",\"NaN\",\"NaN\",\"NaN\",\"NaN\",\"NaN\",\"NaN\",\"NaN\",\"NaN\",\"NaN\",\"NaN\",\"NaN\",\"NaN\",\"NaN\",\"NaN\",\"NaN\",\"NaN\",\"NaN\",\"NaN\",\"NaN\",\"NaN\",\"NaN\",\"NaN\",\"NaN\",\"NaN\",\"NaN\",\"NaN\",\"NaN\",\"NaN\",\"NaN\",\"NaN\",\"NaN\",\"NaN\",\"NaN\",\"NaN\",\"NaN\",\"NaN\",\"NaN\",\"NaN\",\"NaN\",\"NaN\",\"NaN\",\"NaN\",\"NaN\",\"NaN\",\"NaN\",\"NaN\",\"NaN\",\"NaN\",\"NaN\",\"NaN\",\"NaN\",\"NaN\",\"NaN\",\"NaN\",\"NaN\",\"NaN\",\"NaN\",\"NaN\",\"NaN\",\"NaN\",\"NaN\",\"NaN\",\"NaN\",\"NaN\",\"NaN\",\"NaN\",\"NaN\",\"NaN\",\"NaN\",\"NaN\",\"NaN\",\"NaN\",\"NaN\",\"NaN\",\"NaN\",\"NaN\",\"NaN\",\"NaN\",\"NaN\",\"NaN\",\"NaN\",\"NaN\",\"NaN\",\"NaN\",\"NaN\",\"NaN\",\"NaN\",\"NaN\",\"NaN\",\"NaN\",\"NaN\",\"NaN\",\"NaN\",\"NaN\",\"NaN\",\"NaN\",\"NaN\",\"NaN\",\"NaN\",\"NaN\",\"NaN\",\"NaN\",\"NaN\",\"NaN\",\"NaN\",\"NaN\",\"NaN\",\"NaN\",\"NaN\",\"NaN\",\"NaN\",\"NaN\",\"NaN\",\"NaN\",\"NaN\",\"NaN\",\"NaN\",\"NaN\",\"NaN\",\"NaN\",\"NaN\",\"NaN\",\"NaN\",\"NaN\",\"NaN\",\"NaN\",\"NaN\",\"NaN\",\"NaN\",\"NaN\",\"NaN\",\"NaN\",\"NaN\",\"NaN\",\"NaN\",\"NaN\",\"NaN\",\"NaN\",\"NaN\",\"NaN\",\"NaN\",\"NaN\",\"NaN\",\"NaN\",\"NaN\",\"NaN\",\"NaN\",\"NaN\",\"NaN\",\"NaN\",\"NaN\",\"NaN\",\"NaN\",\"NaN\",\"NaN\",\"NaN\",\"NaN\",\"NaN\",\"NaN\",\"NaN\",\"NaN\",\"NaN\",\"NaN\",\"NaN\",\"NaN\",\"NaN\",\"NaN\",\"NaN\",\"NaN\",\"NaN\",\"NaN\",\"NaN\",\"NaN\",\"NaN\",\"NaN\",\"NaN\",\"NaN\",\"NaN\",\"NaN\",\"NaN\",\"NaN\",\"NaN\",\"NaN\",\"NaN\",\"NaN\",\"NaN\",\"NaN\",\"NaN\",\"NaN\",\"NaN\",\"NaN\",\"NaN\",\"NaN\",\"NaN\",\"NaN\",\"NaN\",\"NaN\",\"NaN\",\"NaN\",\"NaN\",\"NaN\",\"NaN\",\"NaN\",\"NaN\",\"NaN\",\"NaN\",\"NaN\",\"NaN\",\"NaN\",\"NaN\",\"NaN\",\"NaN\",\"NaN\",\"NaN\",\"NaN\",\"NaN\",\"NaN\",\"NaN\",\"NaN\",\"NaN\",\"NaN\",\"NaN\",\"NaN\",\"NaN\",\"NaN\",\"NaN\",\"NaN\",\"NaN\",\"NaN\",\"NaN\",\"NaN\",\"NaN\",\"NaN\",\"NaN\",\"NaN\",\"NaN\",\"NaN\",\"NaN\",\"NaN\",\"NaN\",\"NaN\",\"NaN\",\"NaN\",\"NaN\",\"NaN\",\"NaN\",\"NaN\",\"NaN\",\"NaN\",\"NaN\",\"NaN\",\"NaN\",\"NaN\",\"NaN\",\"NaN\",\"NaN\",\"NaN\",\"NaN\",\"NaN\",\"NaN\",\"NaN\",\"NaN\",\"NaN\",\"NaN\",\"NaN\",\"NaN\",\"NaN\",\"NaN\",\"NaN\",\"NaN\",\"NaN\",\"NaN\",\"NaN\",\"NaN\",\"NaN\",\"NaN\",\"NaN\",\"NaN\",\"NaN\",\"NaN\",\"NaN\",\"NaN\",\"NaN\",\"NaN\",\"NaN\",\"NaN\",\"NaN\",\"NaN\",\"NaN\",\"NaN\",\"NaN\",\"NaN\",\"NaN\",\"NaN\",\"NaN\",\"NaN\",\"NaN\",\"NaN\",\"NaN\",\"NaN\",\"NaN\",\"NaN\",\"NaN\",\"NaN\",\"NaN\",\"NaN\",\"NaN\",\"NaN\",\"NaN\",\"NaN\",\"NaN\",\"NaN\",\"NaN\",\"NaN\",\"NaN\",\"NaN\",\"NaN\",\"NaN\",\"NaN\",\"NaN\",\"NaN\",\"NaN\",\"NaN\",\"NaN\",\"NaN\",\"NaN\",\"NaN\",\"NaN\",\"NaN\",\"NaN\",\"NaN\",\"NaN\",\"NaN\",\"NaN\",\"NaN\",\"NaN\",\"NaN\",\"NaN\",\"NaN\",\"NaN\",\"NaN\",\"NaN\",\"NaN\",\"NaN\",\"NaN\",\"NaN\",\"NaN\",\"NaN\",\"NaN\",\"NaN\",\"NaN\",\"NaN\",\"NaN\",\"NaN\",\"NaN\",\"NaN\",\"NaN\",\"NaN\",\"NaN\",\"NaN\",\"NaN\",\"NaN\",\"NaN\",\"NaN\",\"NaN\",\"NaN\",\"NaN\",\"NaN\",\"NaN\",\"NaN\",\"NaN\",\"NaN\",\"NaN\",\"NaN\",\"NaN\",\"NaN\",\"NaN\",\"NaN\",\"NaN\",\"NaN\",\"NaN\",\"NaN\",\"NaN\",\"NaN\",\"NaN\",\"NaN\",\"NaN\",\"NaN\",\"NaN\",\"NaN\",\"NaN\",\"NaN\",\"NaN\",\"NaN\",\"NaN\",\"NaN\",\"NaN\",\"NaN\",\"NaN\",\"NaN\",\"NaN\",\"NaN\",\"NaN\",\"NaN\",\"NaN\",\"NaN\",\"NaN\",\"NaN\",\"NaN\",\"NaN\",\"NaN\",\"NaN\",\"NaN\",\"NaN\",\"NaN\",\"NaN\",\"NaN\",\"NaN\",\"NaN\",\"NaN\",\"NaN\",\"NaN\",\"NaN\",\"NaN\",\"NaN\",\"NaN\",\"NaN\",\"NaN\",\"NaN\",\"NaN\",\"NaN\",\"NaN\",\"NaN\",\"NaN\",\"NaN\",\"NaN\",\"NaN\",\"NaN\",\"NaN\",\"NaN\",\"NaN\",\"NaN\",\"NaN\",\"NaN\",\"NaN\",\"NaN\",\"NaN\",\"NaN\",\"NaN\",\"NaN\",\"NaN\",\"NaN\",\"NaN\",\"NaN\",\"NaN\",\"NaN\",\"NaN\",\"NaN\",\"NaN\",\"NaN\",\"NaN\",\"NaN\",\"NaN\",\"NaN\",\"NaN\",\"NaN\",\"NaN\",\"NaN\",\"NaN\",\"NaN\",\"NaN\",\"NaN\",\"NaN\",\"NaN\",\"NaN\",\"NaN\",\"NaN\",\"NaN\",\"NaN\",\"NaN\",\"NaN\",\"NaN\",\"NaN\",\"NaN\",\"NaN\",\"NaN\",\"NaN\",\"NaN\",\"NaN\",\"NaN\",\"NaN\",\"NaN\",\"NaN\",\"NaN\",\"NaN\",\"NaN\",\"NaN\",\"NaN\",\"NaN\",\"NaN\",\"NaN\",\"NaN\",\"NaN\",\"NaN\",\"NaN\",\"NaN\",\"NaN\",\"NaN\",\"NaN\",\"NaN\",\"NaN\",\"NaN\",\"NaN\",\"NaN\",\"NaN\",\"NaN\",\"NaN\",\"NaN\",\"NaN\",\"NaN\",\"NaN\",\"NaN\",\"NaN\",\"NaN\",\"NaN\",\"NaN\",\"NaN\",\"NaN\",\"NaN\",\"NaN\",\"NaN\",\"NaN\",\"NaN\",\"NaN\",\"NaN\",\"NaN\",\"NaN\",\"NaN\",\"NaN\",\"NaN\",\"NaN\",\"NaN\",\"NaN\",\"NaN\",\"NaN\",\"NaN\",\"NaN\",\"NaN\",\"NaN\",\"NaN\",\"NaN\",\"NaN\",\"NaN\",\"NaN\",\"NaN\",\"NaN\",\"NaN\",\"NaN\",\"NaN\",\"NaN\",\"NaN\",\"NaN\",\"NaN\",\"NaN\",\"NaN\",\"NaN\",\"NaN\",\"NaN\",\"NaN\",\"NaN\",\"NaN\",\"NaN\",\"NaN\",\"NaN\",\"NaN\",\"NaN\",\"NaN\",\"NaN\",\"NaN\",\"NaN\",\"NaN\",\"NaN\",\"NaN\",\"NaN\",\"NaN\",\"NaN\",\"NaN\",\"NaN\",\"NaN\",\"NaN\",\"NaN\",\"NaN\",\"NaN\",\"NaN\",\"NaN\",\"NaN\",\"NaN\",\"NaN\",\"NaN\",\"NaN\",\"NaN\",\"NaN\",\"NaN\",\"NaN\",\"NaN\",\"NaN\",\"NaN\",\"NaN\",\"NaN\",\"NaN\",\"NaN\",\"NaN\",\"NaN\",\"NaN\",\"NaN\",\"NaN\",\"NaN\",\"NaN\",\"NaN\",\"NaN\",\"NaN\",\"NaN\",\"NaN\",\"NaN\",\"NaN\",\"NaN\",\"NaN\",\"NaN\",\"NaN\",\"NaN\",\"NaN\",\"NaN\",\"NaN\",\"NaN\",\"NaN\",\"NaN\",\"NaN\",\"NaN\",\"NaN\",\"NaN\",\"NaN\",\"NaN\",\"NaN\",\"NaN\",\"NaN\",\"NaN\",\"NaN\",\"NaN\",\"NaN\",\"NaN\",\"NaN\",\"NaN\",\"NaN\",\"NaN\",\"NaN\",\"NaN\",\"NaN\",\"NaN\",\"NaN\",\"NaN\",\"NaN\",\"NaN\",\"NaN\",\"NaN\",\"NaN\",\"NaN\",\"NaN\",\"NaN\",\"NaN\",\"NaN\",\"NaN\",\"NaN\",\"NaN\",\"NaN\",\"NaN\",\"NaN\",\"NaN\",\"NaN\",\"NaN\",\"NaN\",\"NaN\",\"NaN\",\"NaN\",\"NaN\",\"NaN\",\"NaN\",\"NaN\",\"NaN\",\"NaN\",\"NaN\",\"NaN\",\"NaN\",\"NaN\",\"NaN\",\"NaN\",\"NaN\",\"NaN\",\"NaN\",\"NaN\",\"NaN\",\"NaN\",\"NaN\",\"NaN\",\"NaN\",\"NaN\",\"NaN\",\"NaN\",\"NaN\",\"NaN\",\"NaN\",\"NaN\",\"NaN\",\"NaN\",\"NaN\",\"NaN\",\"NaN\",\"NaN\",\"NaN\",\"NaN\",\"NaN\",\"NaN\",\"NaN\",\"NaN\",\"NaN\",\"NaN\",\"NaN\",\"NaN\",\"NaN\",\"NaN\",\"NaN\",\"NaN\",\"NaN\",\"NaN\",\"NaN\",\"NaN\",\"NaN\",\"NaN\",\"NaN\",\"NaN\",\"NaN\",\"NaN\",\"NaN\",\"NaN\",\"NaN\",\"NaN\",\"NaN\",\"NaN\",\"NaN\",\"NaN\",\"NaN\",\"NaN\",\"NaN\",\"NaN\",\"NaN\",\"NaN\",\"NaN\",\"NaN\",\"NaN\",\"NaN\",\"NaN\",\"NaN\",\"NaN\",\"NaN\",\"NaN\",\"NaN\",\"NaN\",\"NaN\",\"NaN\",\"NaN\",\"NaN\",\"NaN\",\"NaN\",\"NaN\",\"NaN\",\"NaN\",\"NaN\",\"NaN\",\"NaN\",\"NaN\",\"NaN\",\"NaN\",\"NaN\",\"NaN\",\"NaN\",\"NaN\",\"NaN\",\"NaN\",\"NaN\",\"NaN\",\"NaN\",\"NaN\",\"NaN\",\"NaN\",\"NaN\",\"NaN\",\"NaN\",\"NaN\",\"NaN\",\"NaN\",\"NaN\",\"NaN\",\"NaN\",\"NaN\",\"NaN\",\"NaN\",\"NaN\",\"NaN\",\"NaN\",\"NaN\",\"NaN\",\"NaN\",\"NaN\",\"NaN\",\"NaN\",\"NaN\",\"NaN\",\"NaN\",\"NaN\",\"NaN\",\"NaN\",\"NaN\",\"NaN\",\"NaN\",\"NaN\",\"NaN\",\"NaN\",\"NaN\",\"NaN\",\"NaN\",\"NaN\",\"NaN\",\"NaN\",\"NaN\",\"NaN\",\"NaN\",\"NaN\",\"NaN\",\"NaN\",\"NaN\",\"NaN\",\"NaN\",\"NaN\",\"NaN\",\"NaN\",\"NaN\",\"NaN\",\"NaN\",\"NaN\",\"NaN\",\"NaN\",\"NaN\",\"NaN\",\"NaN\",\"NaN\",\"NaN\",\"NaN\",\"NaN\",\"NaN\",\"NaN\",\"NaN\",\"NaN\",\"NaN\",\"NaN\",\"NaN\",\"NaN\",\"NaN\",\"NaN\",\"NaN\",\"NaN\",\"NaN\",\"NaN\",\"NaN\",\"NaN\",\"NaN\",\"NaN\",\"NaN\",\"NaN\",\"NaN\",\"NaN\",\"NaN\",\"NaN\",\"NaN\",\"NaN\",\"NaN\",\"NaN\",\"NaN\",\"NaN\",\"NaN\",\"NaN\",\"NaN\",\"NaN\",\"NaN\",\"NaN\",\"NaN\",\"NaN\",\"NaN\",\"NaN\",\"NaN\",\"NaN\",\"NaN\",\"NaN\",\"NaN\",\"NaN\",\"NaN\",\"NaN\",\"NaN\",\"NaN\",\"NaN\",0.0,0.09999999999999894,0.141421356237308,0.17320508075688845,0.2000000000000001,0.22360679774997858,0.24494897427831702,0.2645751311064596,0.2828427124746191,0.29999999999999977,0.3162277660168374,0.33166247903554047,0.3464101615137756,0.3605551275463988,0.3741657386773937,0.38729833462074215,0.4000000000000002,0.41231056256176596,0.4242640687119282,0.43588989435406783,0.44721359549995815,0.45825756949558394,0.4690415759823427,0.4795831523312724,0.4898979485566358,0.5,0.5099019513592783,0.5196152422706628,0.5291502622129184,0.5385164807134505,0.547722557505166,0.5567764362830019,0.5656854249492382,0.574456264653803,0.5830951894845299,0.5916079783099613,0.6000000000000003,0.608276253029822,0.6164414002968975,0.6244997998398396,0.6324555320336761,0.640312423743285,0.648074069840786,0.6557438524301998,0.6633249580710803,0.670820393249937,0.6782329983125268,0.6855654600401042,0.6928203230275513,0.7000000000000002,0.7071067811865476,0.7141428428542849,0.7211102550927976,0.728010988928052,0.7348469228349535,0.7416198487095662,0.748331477354788,0.7549834435270751,0.7615773105863909,0.7681145747868607,0.7745966692414832,0.7810249675906656,0.7874007874011811,0.7937253933193771,0.7999999999999998,0.8062257748298551,0.8124038404635961,0.818535277187245,0.8246211251235319,0.8306623862918078,0.8366600265340757,0.8426149773176358,0.8485281374238569,0.8544003745317533,0.8602325267042628,0.8660254037844386,0.8717797887081346,0.877496438739212,0.8831760866327848,0.8888194417315589,0.8944271909999157,0.8999999999999998,0.9055385138137418,0.9110433579144299,0.9165151389911679,0.9219544457292885,0.9273618495495706,0.9327379053088816,0.9380831519646858,0.9433981132056602,0.948683298050514,0.9539392014169458,0.9591663046625438,0.9643650760992953,0.969535971483266,0.9746794344808964,0.9797958971132712,0.9848857801796104,0.9899494936611668,0.9949874371066201,1.0,1.004987562112089,1.0099504938362076,1.0148891565092222,1.019803902718557,1.0246950765959597,1.0295630140986998,1.0344080432788603,1.0392304845413265,1.0440306508910548,1.0488088481701514,1.053565375285274,1.0583005244258363,1.0630145812734648,1.067707825203131,1.072380529476361,1.077032961426901,1.0816653826391966,1.0862780491200215,1.0908712114635717,1.0954451150103324,1.1,1.104536101718726,1.1090536506409419,1.1135528725660044,1.118033988749895,1.1224972160321822,1.1269427669584644,1.1313708498984762,1.1357816691600546,1.1401754250991378,1.1445523142259595,1.148912529307606,1.1532562594670797,1.1575836902790224,1.1618950038622249,1.1661903789690602,1.1704699910719625,1.174734012447073,1.1789826122551594,1.1832159566199234,1.1874342087037917,1.1916375287812984,1.1958260743101397,1.2000000000000002,1.2041594578792296,1.2083045973594573,1.212435565298214,1.216552506059644,1.2206555615733703,1.224744871391589,1.2288205727444508,1.232882800593795,1.2369316876852983,1.2409673645990857,1.2449899597988732,1.2489995996796794,1.252996408614167,1.2569805089976536,1.260952021291849,1.2649110640673515,1.2688577540449522,1.2727922061357855,1.2767145334803705,1.2806248474865696,1.2845232578665131,1.2884098726725126,1.2922847983320085,1.296148139681572,1.3,1.3038404810405297,1.307669683062202,1.3114877048604001,1.3152946437965907,1.319090595827292,1.3228756555322954,1.3266499161421599,1.330413469565007,1.3341664064126335,1.3379088160259651,1.3416407864998738,1.345362404707371,1.3490737563232043,1.3527749258468684,1.3564659966250536,1.3601470508735443,1.3638181696985856,1.3674794331177345,1.3711309200802089,1.3747727084867518,1.3784048752090223,1.3820274961085255,1.3856406460551018,1.3892443989449803,1.392838827718412,1.3964240043768943,1.4,1.40356688476182,1.407124727947029,1.4106735979665885,1.4142135623730951,1.4177446878757824,1.4212670403551895,1.4247806848775009,1.42828568570857,1.4317821063276353,1.4352700094407322,1.438749456993816,1.4422205101855958,1.445683229480096,1.4491376746189437,1.452583904633395,1.4560219778561037,1.4594519519326423,1.4628738838327793,1.466287829861518,1.469693845669907,1.4730919862656235,1.4764823060233399,1.4798648586948744,1.4832396974191326,1.4866068747318506,1.489966442575134,1.493318452306808,1.4966629547095767,1.5,1.5033296378372907,1.5066519173319362,1.50996688705415,1.5132745950421556,1.51657508881031,1.5198684153570663,1.5231546211727818,1.5264337522473748,1.5297058540778354,1.532970971675589,1.5362291495737217,1.5394804318340654,1.5427248620541512,1.5459624833740306,1.5491933384829668,1.5524174696260025,1.5556349186104046,1.5588457268119895,1.562049935181331,1.5652475842498528,1.5684387141358123,1.571623364550171,1.5748015748023623,1.57797338380595,1.5811388300841898,1.5842979517754858,1.5874507866387542,1.5905973720586868,1.5937377450509227,1.5968719422671311,1.5999999999999999,1.6031219541881399,1.606237840420901,1.6093476939431082,1.6124515496597098,1.6155494421403513,1.6186414056238645,1.6217274740226855,1.624807680927192,1.6278820596099708,1.6309506430300091,1.6340134638368191,1.63707055437449,1.6401219466856727,1.6431676725154984,1.6462077633154328,1.649242250247064,1.6522711641858308,1.6552945357246849,1.6583123951777,1.6613247725836149,1.6643316977093237,1.6673332000533068,1.6703293088490065,1.6733200530681511,1.676305461424021,1.6792855623746665,1.6822603841260722,1.6852299546352716,1.688194301613413,1.6911534525287764,1.6941074346097416,1.697056274847714,1.7,1.7029386365926402,1.705872210923198,1.7088007490635062,1.7117242768623688,1.7146428199482249,1.7175564037317668,1.7204650534085253,1.7233687939614086,1.726267650163207,1.7291616465790582,1.7320508075688772,1.7349351572897471,1.7378147196982765,1.7406895185529208,1.743559577416269,1.7464249196572983,1.7492855684535902,1.7521415467935233,1.7549928774784245,1.7578395831246945,1.7606816861659007,1.7635192088548397,1.7663521732655691,1.7691806012954134,1.7720045146669352,1.7748239349298849,1.7776388834631178,1.7804493814764855,1.7832554500127007,1.786057109949175,1.7888543819998315,1.791647286716892,1.7944358444926363,1.797220075561143,1.8,1.8027756377319946,1.8055470085267789,1.8083141320025122,1.8110770276274832,1.8138357147217052,1.8165902124584952,1.8193405398660254,1.8220867158288598,1.8248287590894658,1.8275666882497066,1.8303005217723125,1.8330302779823358,1.8357559750685817,1.8384776310850237,1.8411952639521971,1.8439088914585775,1.8466185312619388,1.849324200890693,1.8520259177452134,1.8547236990991407,1.8574175621006708,1.8601075237738276,1.862793601019716,1.8654758106177631,1.8681541692269406,1.8708286933869707,1.8734993995195195,1.8761663039293717,1.8788294228055935,1.8814887722226776,1.8841443681416774,1.886796226411321,1.8894443627691184,1.8920887928424501,1.8947295321496416,1.8973665961010275,1.9,1.9026297590440446,1.9052558883257653,1.9078784028338915,1.91049731745428,1.9131126469708992,1.9157244060668017,1.9183326093250876,1.9209372712298545,1.9235384061671343,1.9261360284258224,1.9287301521985911,1.9313207915827968,1.9339079605813716,1.9364916731037085,1.9390719429665315,1.9416487838947598,1.9442222095223578,1.9467922333931782,1.949358868961793,1.9519221295943137,1.9544820285692064,1.9570385790780926,1.9595917942265424,1.9621416870348583,1.96468827043885,1.9672315572906,1.9697715603592212,1.9723082923316022,1.97484176581315,1.977371993328519,1.9798989873223332,1.982422760159901,1.9849433241279206,1.987460691435179,1.9899748742132402,1.9924858845171276,1.9949937343260005,1.997498435543818,2.0,2.0024984394500787,2.004993765576342,2.007485989988473,2.009975124224178,2.012461179749811,2.0149441679609885,2.0174241001832014,2.0199009876724157,2.0223748416156684,2.0248456731316584,2.027313493271329,2.029778313018444,2.032240143290158,2.0346989949375804,2.0371548787463363,2.039607805437114,2.0420577856662137,2.0445048300260873,2.046948949045872,2.0493901531919194,2.0518284528683193,2.0542638584174138,2.0566963801203135,2.0591260281974,2.0615528128088303,2.0639767440550294,2.0663978319771825,2.06881608655772,2.071231517720798,2.0736441353327724,2.0760539492026697,2.078460969082653,2.080865204668481,2.083266665599966,2.085665361461421,2.0880613017821097,2.090454496036687,2.0928449536456353,2.0952326839756963,2.0976176963403033,2.1,2.1023796041628637,2.1047565179849186,2.1071307505705477,2.1095023109728985,2.111871208194288,2.1142374511865976,2.1166010488516727,2.118962010041709,2.1213203435596424,2.12367605815953,2.1260291625469296,2.128379665379276,2.1307275752662513,2.1330729007701543,2.1354156504062622,2.137755832643195,2.1400934559032696,2.142428528562855,2.1447610589527217,2.1470910553583886,2.1494185260204675,2.1517434791350016,2.154065922853802,2.1563858652847827,2.1587033144922905,2.1610182784974308,2.1633307652783933,2.1656407827707715,2.16794833886788,2.1702534414210706,2.1725560982400434,2.1748563170931545,2.177154105707724,2.179449471770337,2.181742422927143,2.1840329667841556,2.1863211109075444,2.188606862823929,2.1908902300206647,2.193171219946131,2.195449840010015,2.1977260975835913,2.2,2.202271554554524,2.2045407685048604,2.206807649071391,2.209072203437452,2.2113344387495983,2.2135943621178655,2.215851980616034,2.2181073012818833,2.2203603311174516,2.2226110770892866,2.2248595461286986,2.227105745132009,2.2293496809607953,2.23159136044214,2.233830790368868,2.23606797749979,2.238302928559939,2.240535650240808,2.2427661492005804,2.2449944320643644,2.247220505424423,2.249444375840399,2.2516660498395407,2.253885533916929,2.2561028345356955,2.258317958127243,2.260530911091463,2.262741699796952,2.2649503305812253,2.2671568097509267,2.2693611435820435,2.2715633383201093,2.2737634001804143,2.2759613353482084,2.2781571499789033,2.2803508501982757,2.282542442102666,2.2847319317591728,2.2869193252058544,2.2891046284519194,2.29128784747792,2.293468988235943,2.295648056649799,2.2978250586152114,2.3,2.302172886644268,2.3043437243605824,2.3065125189341593,2.3086792761230392,2.3108440016582685,2.3130067012440754,2.315167380558045,2.3173260452512934,2.3194827009486407,2.32163735324878,2.32379000772445,2.3259406699226015,2.328089345364563,2.3302360395462087,2.33238075793812,2.33452350598575,2.3366642891095846,2.3388031127053,2.340939982143925,2.3430749027719964,2.345207879911715,2.3473389188611002,2.349468024894146,2.351595203260969,2.3537204591879637,2.3558437978779496,2.3579652245103193,2.360084744241189,2.3622023622035435,2.364318083507378,2.3664319132398464,2.368543856465402,2.3706539182259396,2.3727621035409348,2.3748684174075834,2.3769728648009427,2.3790754506740637,2.3811761799581315,2.3832750575625967,2.3853720883753127,2.3874672772626644,2.3895606290697042,2.3916521486202797,2.3937418407171647,2.3958297101421877,2.3979157616563596,2.4,2.4020824298928627,2.4041630560342613,2.406241883103193,2.4083189157584592,2.4103941586387903,2.4124676163629637,2.414539293529927,2.4166091947189146,2.4186773244895647,2.420743687382041,2.4228082879171433,2.4248711305964283,2.4269322199023193,2.4289915602982237,2.4310491562286436,2.4331050121192876,2.435159132377184,2.437211521390788,2.4392621835300936,2.4413111231467406,2.4433583445741234,2.445403852127497,2.4474476501040834]},\"selected\":{\"id\":\"1499\",\"type\":\"Selection\"},\"selection_policy\":{\"id\":\"1500\",\"type\":\"UnionRenderers\"}},\"id\":\"1419\",\"type\":\"ColumnDataSource\"},{\"attributes\":{},\"id\":\"1365\",\"type\":\"LinearScale\"},{\"attributes\":{},\"id\":\"1367\",\"type\":\"LinearScale\"},{\"attributes\":{},\"id\":\"1431\",\"type\":\"LinearScale\"},{\"attributes\":{\"callback\":null},\"id\":\"1429\",\"type\":\"DataRange1d\"},{\"attributes\":{\"dimension\":1,\"ticker\":{\"id\":\"1408\",\"type\":\"BasicTicker\"}},\"id\":\"1411\",\"type\":\"Grid\"},{\"attributes\":{\"line_alpha\":0.1,\"line_color\":\"#1f77b4\",\"line_width\":2,\"x\":{\"field\":\"x\"},\"y\":{\"field\":\"y\"}},\"id\":\"1421\",\"type\":\"Line\"},{\"attributes\":{},\"id\":\"1433\",\"type\":\"LinearScale\"},{\"attributes\":{},\"id\":\"1381\",\"type\":\"ResetTool\"},{\"attributes\":{\"formatter\":{\"id\":\"1494\",\"type\":\"BasicTickFormatter\"},\"ticker\":{\"id\":\"1436\",\"type\":\"BasicTicker\"}},\"id\":\"1435\",\"type\":\"LinearAxis\"},{\"attributes\":{},\"id\":\"1380\",\"type\":\"WheelZoomTool\"},{\"attributes\":{},\"id\":\"1441\",\"type\":\"BasicTicker\"},{\"attributes\":{},\"id\":\"1436\",\"type\":\"BasicTicker\"},{\"attributes\":{},\"id\":\"1379\",\"type\":\"PanTool\"},{\"attributes\":{\"ticker\":{\"id\":\"1436\",\"type\":\"BasicTicker\"}},\"id\":\"1439\",\"type\":\"Grid\"},{\"attributes\":{\"callback\":null},\"id\":\"1427\",\"type\":\"DataRange1d\"},{\"attributes\":{\"active_drag\":\"auto\",\"active_inspect\":\"auto\",\"active_multi\":null,\"active_scroll\":\"auto\",\"active_tap\":\"auto\",\"tools\":[{\"id\":\"1379\",\"type\":\"PanTool\"},{\"id\":\"1380\",\"type\":\"WheelZoomTool\"},{\"id\":\"1381\",\"type\":\"ResetTool\"}]},\"id\":\"1382\",\"type\":\"Toolbar\"},{\"attributes\":{\"callback\":null,\"data\":{\"x\":[-5.0,-4.99,-4.98,-4.97,-4.96,-4.95,-4.94,-4.93,-4.92,-4.91,-4.9,-4.89,-4.88,-4.87,-4.86,-4.85,-4.84,-4.83,-4.82,-4.81,-4.8,-4.79,-4.78,-4.77,-4.76,-4.75,-4.74,-4.73,-4.72,-4.71,-4.7,-4.69,-4.68,-4.67,-4.66,-4.65,-4.64,-4.63,-4.62,-4.61,-4.6,-4.59,-4.58,-4.57,-4.56,-4.55,-4.54,-4.53,-4.52,-4.51,-4.5,-4.49,-4.48,-4.47,-4.46,-4.45,-4.44,-4.43,-4.42,-4.41,-4.4,-4.39,-4.38,-4.37,-4.36,-4.35,-4.34,-4.33,-4.32,-4.31,-4.3,-4.29,-4.28,-4.27,-4.26,-4.25,-4.24,-4.23,-4.22,-4.21,-4.2,-4.19,-4.18,-4.17,-4.16,-4.15,-4.14,-4.13,-4.12,-4.11,-4.1,-4.09,-4.08,-4.07,-4.06,-4.05,-4.04,-4.03,-4.02,-4.01,-4.0,-3.99,-3.98,-3.97,-3.96,-3.95,-3.94,-3.93,-3.92,-3.91,-3.9,-3.89,-3.88,-3.87,-3.86,-3.85,-3.84,-3.83,-3.82,-3.81,-3.8,-3.79,-3.78,-3.77,-3.76,-3.75,-3.74,-3.73,-3.72,-3.71,-3.7,-3.69,-3.68,-3.67,-3.66,-3.65,-3.64,-3.63,-3.62,-3.61,-3.6,-3.59,-3.58,-3.57,-3.56,-3.55,-3.54,-3.53,-3.52,-3.51,-3.5,-3.49,-3.48,-3.47,-3.46,-3.45,-3.44,-3.43,-3.42,-3.41,-3.4,-3.39,-3.38,-3.37,-3.36,-3.35,-3.34,-3.33,-3.32,-3.31,-3.3,-3.29,-3.28,-3.27,-3.26,-3.25,-3.24,-3.23,-3.22,-3.21,-3.2,-3.19,-3.18,-3.17,-3.16,-3.15,-3.14,-3.13,-3.12,-3.11,-3.1,-3.09,-3.08,-3.07,-3.06,-3.05,-3.04,-3.03,-3.02,-3.01,-3.0,-2.99,-2.98,-2.97,-2.96,-2.95,-2.94,-2.93,-2.92,-2.91,-2.9,-2.89,-2.88,-2.87,-2.86,-2.85,-2.84,-2.83,-2.82,-2.81,-2.8,-2.79,-2.78,-2.77,-2.76,-2.75,-2.74,-2.73,-2.72,-2.71,-2.7,-2.69,-2.68,-2.67,-2.66,-2.65,-2.64,-2.63,-2.62,-2.61,-2.6,-2.59,-2.58,-2.57,-2.56,-2.55,-2.54,-2.53,-2.52,-2.51,-2.5,-2.49,-2.48,-2.47,-2.46,-2.45,-2.44,-2.43,-2.42,-2.41,-2.4,-2.39,-2.38,-2.37,-2.36,-2.35,-2.34,-2.33,-2.32,-2.31,-2.3,-2.29,-2.28,-2.27,-2.26,-2.25,-2.24,-2.23,-2.22,-2.21,-2.2,-2.19,-2.18,-2.17,-2.16,-2.15,-2.14,-2.13,-2.12,-2.11,-2.1,-2.09,-2.08,-2.07,-2.06,-2.05,-2.04,-2.03,-2.02,-2.01,-2.0,-1.99,-1.98,-1.97,-1.96,-1.95,-1.94,-1.93,-1.92,-1.91,-1.9,-1.89,-1.88,-1.87,-1.86,-1.85,-1.84,-1.83,-1.82,-1.81,-1.8,-1.79,-1.78,-1.77,-1.76,-1.75,-1.74,-1.73,-1.72,-1.71,-1.7,-1.69,-1.68,-1.67,-1.66,-1.65,-1.64,-1.63,-1.62,-1.61,-1.6,-1.59,-1.58,-1.57,-1.56,-1.55,-1.54,-1.53,-1.52,-1.51,-1.5,-1.49,-1.48,-1.47,-1.46,-1.45,-1.44,-1.43,-1.42,-1.41,-1.4,-1.39,-1.38,-1.37,-1.36,-1.35,-1.34,-1.33,-1.32,-1.31,-1.3,-1.29,-1.28,-1.27,-1.26,-1.25,-1.24,-1.23,-1.22,-1.21,-1.2,-1.19,-1.18,-1.17,-1.16,-1.15,-1.14,-1.13,-1.12,-1.11,-1.1,-1.09,-1.08,-1.07,-1.06,-1.05,-1.04,-1.03,-1.02,-1.01,-1.0,-0.99,-0.98,-0.97,-0.96,-0.95,-0.94,-0.93,-0.92,-0.91,-0.9,-0.89,-0.88,-0.87,-0.86,-0.85,-0.84,-0.83,-0.82,-0.81,-0.8,-0.79,-0.78,-0.77,-0.76,-0.75,-0.74,-0.73,-0.72,-0.71,-0.7,-0.69,-0.68,-0.67,-0.66,-0.65,-0.64,-0.63,-0.62,-0.61,-0.6,-0.59,-0.58,-0.57,-0.56,-0.55,-0.54,-0.53,-0.52,-0.51,-0.5,-0.49,-0.48,-0.47,-0.46,-0.45,-0.44,-0.43,-0.42,-0.41,-0.4,-0.39,-0.38,-0.37,-0.36,-0.35,-0.34,-0.33,-0.32,-0.31,-0.3,-0.29,-0.28,-0.27,-0.26,-0.25,-0.24,-0.23,-0.22,-0.21,-0.2,-0.19,-0.18,-0.17,-0.16,-0.15,-0.14,-0.13,-0.12,-0.11,-0.1,-0.09,-0.08,-0.07,-0.06,-0.05,-0.04,-0.03,-0.02,-0.01,0.0,0.01,0.02,0.03,0.04,0.05,0.06,0.07,0.08,0.09,0.1,0.11,0.12,0.13,0.14,0.15,0.16,0.17,0.18,0.19,0.2,0.21,0.22,0.23,0.24,0.25,0.26,0.27,0.28,0.29,0.3,0.31,0.32,0.33,0.34,0.35,0.36,0.37,0.38,0.39,0.4,0.41,0.42,0.43,0.44,0.45,0.46,0.47,0.48,0.49,0.5,0.51,0.52,0.53,0.54,0.55,0.56,0.57,0.58,0.59,0.6,0.61,0.62,0.63,0.64,0.65,0.66,0.67,0.68,0.69,0.7,0.71,0.72,0.73,0.74,0.75,0.76,0.77,0.78,0.79,0.8,0.81,0.82,0.83,0.84,0.85,0.86,0.87,0.88,0.89,0.9,0.91,0.92,0.93,0.94,0.95,0.96,0.97,0.98,0.99,1.0,1.01,1.02,1.03,1.04,1.05,1.06,1.07,1.08,1.09,1.1,1.11,1.12,1.13,1.14,1.15,1.16,1.17,1.18,1.19,1.2,1.21,1.22,1.23,1.24,1.25,1.26,1.27,1.28,1.29,1.3,1.31,1.32,1.33,1.34,1.35,1.36,1.37,1.38,1.39,1.4,1.41,1.42,1.43,1.44,1.45,1.46,1.47,1.48,1.49,1.5,1.51,1.52,1.53,1.54,1.55,1.56,1.57,1.58,1.59,1.6,1.61,1.62,1.63,1.64,1.65,1.66,1.67,1.68,1.69,1.7,1.71,1.72,1.73,1.74,1.75,1.76,1.77,1.78,1.79,1.8,1.81,1.82,1.83,1.84,1.85,1.86,1.87,1.88,1.89,1.9,1.91,1.92,1.93,1.94,1.95,1.96,1.97,1.98,1.99,2.0,2.01,2.02,2.03,2.04,2.05,2.06,2.07,2.08,2.09,2.1,2.11,2.12,2.13,2.14,2.15,2.16,2.17,2.18,2.19,2.2,2.21,2.22,2.23,2.24,2.25,2.26,2.27,2.28,2.29,2.3,2.31,2.32,2.33,2.34,2.35,2.36,2.37,2.38,2.39,2.4,2.41,2.42,2.43,2.44,2.45,2.46,2.47,2.48,2.49,2.5,2.51,2.52,2.53,2.54,2.55,2.56,2.57,2.58,2.59,2.6,2.61,2.62,2.63,2.64,2.65,2.66,2.67,2.68,2.69,2.7,2.71,2.72,2.73,2.74,2.75,2.76,2.77,2.78,2.79,2.8,2.81,2.82,2.83,2.84,2.85,2.86,2.87,2.88,2.89,2.9,2.91,2.92,2.93,2.94,2.95,2.96,2.97,2.98,2.99,3.0,3.01,3.02,3.03,3.04,3.05,3.06,3.07,3.08,3.09,3.1,3.11,3.12,3.13,3.14,3.15,3.16,3.17,3.18,3.19,3.2,3.21,3.22,3.23,3.24,3.25,3.26,3.27,3.28,3.29,3.3,3.31,3.32,3.33,3.34,3.35,3.36,3.37,3.38,3.39,3.4,3.41,3.42,3.43,3.44,3.45,3.46,3.47,3.48,3.49,3.5,3.51,3.52,3.53,3.54,3.55,3.56,3.57,3.58,3.59,3.6,3.61,3.62,3.63,3.64,3.65,3.66,3.67,3.68,3.69,3.7,3.71,3.72,3.73,3.74,3.75,3.76,3.77,3.78,3.79,3.8,3.81,3.82,3.83,3.84,3.85,3.86,3.87,3.88,3.89,3.9,3.91,3.92,3.93,3.94,3.95,3.96,3.97,3.98,3.99,4.0,4.01,4.02,4.03,4.04,4.05,4.06,4.07,4.08,4.09,4.1,4.11,4.12,4.13,4.14,4.15,4.16,4.17,4.18,4.19,4.2,4.21,4.22,4.23,4.24,4.25,4.26,4.27,4.28,4.29,4.3,4.31,4.32,4.33,4.34,4.35,4.36,4.37,4.38,4.39,4.4,4.41,4.42,4.43,4.44,4.45,4.46,4.47,4.48,4.49,4.5,4.51,4.52,4.53,4.54,4.55,4.56,4.57,4.58,4.59,4.6,4.61,4.62,4.63,4.64,4.65,4.66,4.67,4.68,4.69,4.7,4.71,4.72,4.73,4.74,4.75,4.76,4.77,4.78,4.79,4.8,4.81,4.82,4.83,4.84,4.85,4.86,4.87,4.88,4.89,4.9,4.91,4.92,4.93,4.94,4.95,4.96,4.97,4.98,4.99,5.0,5.01,5.02,5.03,5.04,5.05,5.06,5.07,5.08,5.09,5.1,5.11,5.12,5.13,5.14,5.15,5.16,5.17,5.18,5.19,5.2,5.21,5.22,5.23,5.24,5.25,5.26,5.27,5.28,5.29,5.3,5.31,5.32,5.33,5.34,5.35,5.36,5.37,5.38,5.39,5.4,5.41,5.42,5.43,5.44,5.45,5.46,5.47,5.48,5.49,5.5,5.51,5.52,5.53,5.54,5.55,5.56,5.57,5.58,5.59,5.6,5.61,5.62,5.63,5.64,5.65,5.66,5.67,5.68,5.69,5.7,5.71,5.72,5.73,5.74,5.75,5.76,5.77,5.78,5.79,5.8,5.81,5.82,5.83,5.84,5.85,5.86,5.87,5.88,5.89,5.9,5.91,5.92,5.93,5.94,5.95,5.96,5.97,5.98,5.99,6.0,6.01,6.02,6.03,6.04,6.05,6.06,6.07,6.08,6.09,6.1,6.11,6.12,6.13,6.14,6.15,6.16,6.17,6.18,6.19,6.2,6.21,6.22,6.23,6.24,6.25,6.26,6.27,6.28,6.29,6.3,6.31,6.32,6.33,6.34,6.35,6.36,6.37,6.38,6.39,6.4,6.41,6.42,6.43,6.44,6.45,6.46,6.47,6.48,6.49,6.5,6.51,6.52,6.53,6.54,6.55,6.56,6.57,6.58,6.59,6.6,6.61,6.62,6.63,6.64,6.65,6.66,6.67,6.68,6.69,6.7,6.71,6.72,6.73,6.74,6.75,6.76,6.77,6.78,6.79,6.8,6.81,6.82,6.83,6.84,6.85,6.86,6.87,6.88,6.89,6.9,6.91,6.92,6.93,6.94,6.95,6.96,6.97,6.98,6.99,7.0,7.01,7.02,7.03,7.04,7.05,7.06,7.07,7.08,7.09,7.1,7.11,7.12,7.13,7.14,7.15,7.16,7.17,7.18,7.19,7.2,7.21,7.22,7.23,7.24,7.25,7.26,7.27,7.28,7.29,7.3,7.31,7.32,7.33,7.34,7.35,7.36,7.37,7.38,7.39,7.4,7.41,7.42,7.43,7.44,7.45,7.46,7.47,7.48,7.49,7.5,7.51,7.52,7.53,7.54,7.55,7.56,7.57,7.58,7.59,7.6,7.61,7.62,7.63,7.64,7.65,7.66,7.67,7.68,7.69,7.7,7.71,7.72,7.73,7.74,7.75,7.76,7.77,7.78,7.79,7.8,7.81,7.82,7.83,7.84,7.85,7.86,7.87,7.88,7.89,7.9,7.91,7.92,7.93,7.94,7.95,7.96,7.97,7.98,7.99,8.0,8.01,8.02,8.03,8.04,8.05,8.06,8.07,8.08,8.09,8.1,8.11,8.12,8.13,8.14,8.15,8.16,8.17,8.18,8.19,8.2,8.21,8.22,8.23,8.24,8.25,8.26,8.27,8.28,8.29,8.3,8.31,8.32,8.33,8.34,8.35,8.36,8.37,8.38,8.39,8.4,8.41,8.42,8.43,8.44,8.45,8.46,8.47,8.48,8.49,8.5,8.51,8.52,8.53,8.54,8.55,8.56,8.57,8.58,8.59,8.6,8.61,8.62,8.63,8.64,8.65,8.66,8.67,8.68,8.69,8.7,8.71,8.72,8.73,8.74,8.75,8.76,8.77,8.78,8.79,8.8,8.81,8.82,8.83,8.84,8.85,8.86,8.87,8.88,8.89,8.9,8.91,8.92,8.93,8.94,8.95,8.96,8.97,8.98,8.99,9.0,9.01,9.02,9.03,9.04,9.05,9.06,9.07,9.08,9.09,9.1,9.11,9.12,9.13,9.14,9.15,9.16,9.17,9.18,9.19,9.2,9.21,9.22,9.23,9.24,9.25,9.26,9.27,9.28,9.29,9.3,9.31,9.32,9.33,9.34,9.35,9.36,9.37,9.38,9.39,9.4,9.41,9.42,9.43,9.44,9.45,9.46,9.47,9.48,9.49,9.5,9.51,9.52,9.53,9.54,9.55,9.56,9.57,9.58,9.59,9.6,9.61,9.62,9.63,9.64,9.65,9.66,9.67,9.68,9.69,9.7,9.71,9.72,9.73,9.74,9.75,9.76,9.77,9.78,9.79,9.8,9.81,9.82,9.83,9.84,9.85,9.86,9.87,9.88,9.89,9.9,9.91,9.92,9.93,9.94,9.95,9.96,9.97,9.98,9.99,10.0,10.01,10.02,10.03,10.04,10.05,10.06,10.07,10.08,10.09,10.1,10.11,10.12,10.13,10.14,10.15,10.16,10.17,10.18,10.19,10.2,10.21,10.22,10.23,10.24,10.25,10.26,10.27,10.28,10.29,10.3,10.31,10.32,10.33,10.34,10.35,10.36,10.37,10.38,10.39,10.4,10.41,10.42,10.43,10.44,10.45,10.46,10.47,10.48,10.49,10.5,10.51,10.52,10.53,10.54,10.55,10.56,10.57,10.58,10.59,10.6,10.61,10.62,10.63,10.64,10.65,10.66,10.67,10.68,10.69,10.7,10.71,10.72,10.73,10.74,10.75,10.76,10.77,10.78,10.79,10.8,10.81,10.82,10.83,10.84,10.85,10.86,10.87,10.88,10.89,10.9,10.91,10.92,10.93,10.94,10.95,10.96,10.97,10.98,10.99],\"y\":[0.7142857142857143,0.7138769670958512,0.7134670487106017,0.7130559540889526,0.7126436781609196,0.7122302158273381,0.7118155619596542,0.7113997113997114,0.7109826589595376,0.7105643994211288,0.7101449275362319,0.7097242380261248,0.7093023255813954,0.7088791848617176,0.7084548104956269,0.708029197080292,0.7076023391812866,0.7071742313323572,0.7067448680351907,0.7063142437591776,0.7058823529411765,0.7054491899852725,0.7050147492625369,0.7045790251107829,0.7041420118343196,0.7037037037037037,0.7032640949554896,0.7028231797919763,0.7023809523809523,0.7019374068554396,0.7014925373134329,0.7010463378176383,0.7005988023952096,0.7001499250374813,0.6996996996996997,0.6992481203007519,0.6987951807228916,0.698340874811463,0.6978851963746223,0.697428139183056,0.6969696969696969,0.6965098634294385,0.6960486322188449,0.69558599695586,0.6951219512195121,0.6946564885496184,0.6941896024464832,0.6937212863705973,0.6932515337423313,0.6927803379416283,0.6923076923076923,0.6918335901386748,0.6913580246913581,0.6908809891808346,0.6904024767801857,0.689922480620155,0.6894409937888198,0.6889580093312597,0.6884735202492211,0.6879875195007801,0.6875,0.6870109546165885,0.6865203761755486,0.6860282574568289,0.6855345911949686,0.6850393700787402,0.6845425867507886,0.684044233807267,0.6835443037974683,0.6830427892234548,0.6825396825396826,0.6820349761526232,0.6815286624203821,0.6810207336523125,0.6805111821086262,0.68,0.6794871794871795,0.6789727126805779,0.6784565916398714,0.677938808373591,0.6774193548387097,0.6768982229402262,0.6763754045307443,0.6758508914100486,0.6753246753246753,0.6747967479674797,0.6742671009771987,0.6737357259380098,0.673202614379085,0.6726677577741408,0.6721311475409836,0.6715927750410509,0.6710526315789473,0.6705107084019769,0.66996699669967,0.6694214876033058,0.6688741721854304,0.6683250414593699,0.6677740863787375,0.6672212978369384,0.6666666666666666,0.666110183639399,0.6655518394648829,0.6649916247906197,0.6644295302013423,0.6638655462184874,0.6632996632996634,0.6627318718381113,0.6621621621621622,0.661590524534687,0.6610169491525423,0.6604414261460101,0.6598639455782312,0.6592844974446337,0.658703071672355,0.6581196581196582,0.6575342465753424,0.6569468267581475,0.6563573883161511,0.6557659208261617,0.6551724137931034,0.6545768566493955,0.6539792387543253,0.6533795493934142,0.6527777777777778,0.6521739130434783,0.6515679442508711,0.6509598603839442,0.6503496503496503,0.649737302977233,0.6491228070175439,0.6485061511423551,0.647887323943662,0.6472663139329806,0.6466431095406361,0.6460176991150441,0.6453900709219857,0.6447602131438721,0.6441281138790036,0.64349376114082,0.6428571428571429,0.6422182468694096,0.6415770609318997,0.6409335727109514,0.6402877697841726,0.6396396396396397,0.6389891696750902,0.6383363471971067,0.6376811594202899,0.6370235934664247,0.6363636363636364,0.6357012750455373,0.635036496350365,0.6343692870201096,0.6336996336996337,0.6330275229357798,0.6323529411764707,0.6316758747697975,0.6309963099630996,0.6303142329020333,0.6296296296296295,0.6289424860853432,0.6282527881040892,0.6275605214152701,0.6268656716417911,0.6261682242990655,0.6254681647940075,0.624765478424015,0.6240601503759398,0.623352165725047,0.6226415094339622,0.6219281663516069,0.6212121212121212,0.6204933586337762,0.6197718631178707,0.6190476190476191,0.6183206106870229,0.6175908221797323,0.6168582375478927,0.6161228406909789,0.6153846153846154,0.6146435452793835,0.613899613899614,0.6131528046421664,0.6124031007751938,0.6116504854368932,0.6108949416342412,0.6101364522417154,0.609375,0.6086105675146771,0.607843137254902,0.6070726915520629,0.6062992125984252,0.6055226824457594,0.6047430830039525,0.6039603960396039,0.6031746031746031,0.6023856858846919,0.601593625498008,0.6007984031936128,0.6,0.5991983967935872,0.5983935742971886,0.5975855130784707,0.5967741935483871,0.595959595959596,0.5951417004048584,0.5943204868154159,0.5934959349593496,0.5926680244399185,0.5918367346938775,0.591002044989775,0.5901639344262295,0.5893223819301848,0.5884773662551441,0.5876288659793815,0.5867768595041322,0.5859213250517599,0.5850622406639003,0.5841995841995842,0.5833333333333334,0.5824634655532359,0.5815899581589958,0.5807127882599581,0.5798319327731092,0.5789473684210527,0.5780590717299579,0.5771670190274841,0.576271186440678,0.5753715498938429,0.574468085106383,0.5735607675906184,0.5726495726495727,0.5717344753747323,0.5708154506437768,0.5698924731182795,0.5689655172413792,0.5680345572354212,0.5670995670995671,0.5661605206073753,0.5652173913043479,0.5642701525054467,0.5633187772925764,0.562363238512035,0.5614035087719298,0.5604395604395604,0.5594713656387665,0.5584988962472407,0.5575221238938054,0.5565410199556541,0.5555555555555556,0.5545657015590201,0.5535714285714285,0.5525727069351231,0.5515695067264574,0.550561797752809,0.5495495495495496,0.5485327313769752,0.5475113122171945,0.546485260770975,0.5454545454545454,0.5444191343963554,0.54337899543379,0.5423340961098398,0.5412844036697249,0.5402298850574714,0.5391705069124424,0.5381062355658198,0.537037037037037,0.5359628770301623,0.5348837209302325,0.5337995337995338,0.5327102803738318,0.531615925058548,0.5305164319248826,0.5294117647058824,0.5283018867924528,0.5271867612293144,0.5260663507109005,0.5249406175771971,0.5238095238095238,0.5226730310262531,0.521531100478469,0.5203836930455635,0.5192307692307693,0.5180722891566264,0.5169082125603864,0.5157384987893462,0.5145631067961165,0.51338199513382,0.5121951219512195,0.511002444987775,0.5098039215686274,0.5085995085995085,0.5073891625615763,0.5061728395061729,0.504950495049505,0.5037220843672456,0.5024875621890548,0.5012468827930174,0.5,0.49874686716791977,0.49748743718592964,0.4962216624685139,0.494949494949495,0.49367088607594933,0.49238578680203043,0.4910941475826972,0.4897959183673469,0.48849104859335035,0.48717948717948717,0.48586118251928023,0.4845360824742268,0.48320413436692505,0.48186528497409326,0.4805194805194805,0.4791666666666667,0.47780678851174935,0.47643979057591623,0.47506561679790027,0.4736842105263158,0.47229551451187335,0.4708994708994709,0.46949602122015915,0.46808510638297873,0.4666666666666667,0.4652406417112299,0.46380697050938335,0.4623655913978495,0.4609164420485175,0.45945945945945943,0.45799457994579945,0.4565217391304348,0.4550408719346049,0.45355191256830596,0.4520547945205479,0.45054945054945056,0.4490358126721763,0.44751381215469616,0.445983379501385,0.4444444444444445,0.44289693593314766,0.44134078212290506,0.43977591036414565,0.43820224719101125,0.4366197183098592,0.4350282485875706,0.43342776203966005,0.4318181818181818,0.43019943019943024,0.42857142857142855,0.4269340974212034,0.42528735632183906,0.4236311239193084,0.42196531791907516,0.42028985507246375,0.41860465116279066,0.41690962099125367,0.4152046783625731,0.4134897360703812,0.4117647058823529,0.41002949852507375,0.40828402366863903,0.4065281899109792,0.40476190476190477,0.40298507462686567,0.4011976047904192,0.3993993993993994,0.39759036144578314,0.39577039274924475,0.393939393939394,0.39209726443769,0.39024390243902435,0.38837920489296635,0.3865030674846626,0.38461538461538464,0.38271604938271603,0.38080495356037153,0.37888198757763975,0.37694704049844235,0.37499999999999994,0.3730407523510972,0.37106918238993714,0.36908517350157727,0.36708860759493667,0.36507936507936506,0.36305732484076436,0.36102236421725237,0.358974358974359,0.35691318327974275,0.3548387096774194,0.3527508090614887,0.35064935064935066,0.3485342019543974,0.3464052287581699,0.34426229508196726,0.34210526315789475,0.33993399339933994,0.33774834437086093,0.3355481727574751,0.3333333333333333,0.33110367892976583,0.32885906040268453,0.3265993265993266,0.32432432432432434,0.3220338983050847,0.31972789115646255,0.3174061433447099,0.31506849315068497,0.3127147766323024,0.3103448275862069,0.3079584775086505,0.3055555555555556,0.30313588850174217,0.30069930069930073,0.2982456140350877,0.29577464788732394,0.29328621908127206,0.2907801418439716,0.28825622775800713,0.28571428571428575,0.2831541218637993,0.2805755395683453,0.2779783393501805,0.2753623188405797,0.2727272727272727,0.27007299270072993,0.2673992673992674,0.2647058823529412,0.26199261992619927,0.25925925925925924,0.25650557620817843,0.2537313432835821,0.250936329588015,0.24812030075187969,0.24528301886792456,0.24242424242424243,0.23954372623574147,0.23664122137404578,0.23371647509578544,0.23076923076923075,0.2277992277992278,0.22480620155038758,0.22178988326848248,0.21875000000000003,0.21568627450980396,0.2125984251968504,0.20948616600790512,0.20634920634920637,0.20318725099601595,0.2,0.1967871485943775,0.1935483870967742,0.19028340080971662,0.1869918699186992,0.18367346938775508,0.18032786885245902,0.17695473251028807,0.17355371900826447,0.1701244813278008,0.16666666666666669,0.16317991631799164,0.1596638655462185,0.1561181434599156,0.15254237288135594,0.14893617021276595,0.1452991452991453,0.14163090128755365,0.13793103448275865,0.1341991341991342,0.13043478260869565,0.12663755458515283,0.12280701754385964,0.11894273127753305,0.11504424778761063,0.1111111111111111,0.10714285714285712,0.1031390134529148,0.09909909909909909,0.09502262443438914,0.09090909090909091,0.08675799086757992,0.08256880733944953,0.0783410138248848,0.07407407407407407,0.06976744186046512,0.06542056074766356,0.061032863849765265,0.056603773584905655,0.05213270142180095,0.047619047619047616,0.0430622009569378,0.038461538461538464,0.03381642512077295,0.029126213592233007,0.02439024390243903,0.0196078431372549,0.01477832512315271,0.009900990099009901,0.0049751243781094535,-0.0,-0.005025125628140704,-0.010101010101010102,-0.015228426395939085,-0.020408163265306124,-0.025641025641025644,-0.030927835051546393,-0.036269430051813475,-0.04166666666666667,-0.04712041884816754,-0.052631578947368425,-0.058201058201058205,-0.06382978723404255,-0.06951871657754011,-0.07526881720430109,-0.08108108108108107,-0.08695652173913043,-0.09289617486338798,-0.0989010989010989,-0.10497237569060773,-0.11111111111111112,-0.11731843575418993,-0.12359550561797752,-0.12994350282485875,-0.13636363636363635,-0.14285714285714285,-0.14942528735632185,-0.15606936416184972,-0.16279069767441862,-0.1695906432748538,-0.17647058823529413,-0.1834319526627219,-0.1904761904761905,-0.1976047904191617,-0.20481927710843376,-0.21212121212121213,-0.2195121951219512,-0.22699386503067487,-0.2345679012345679,-0.24223602484472054,-0.25,-0.2578616352201258,-0.26582278481012656,-0.27388535031847133,-0.28205128205128205,-0.2903225806451613,-0.2987012987012987,-0.3071895424836601,-0.3157894736842105,-0.32450331125827814,-0.3333333333333333,-0.3422818791946309,-0.35135135135135137,-0.36054421768707484,-0.36986301369863017,-0.37931034482758624,-0.38888888888888895,-0.39860139860139854,-0.4084507042253521,-0.4184397163120567,-0.4285714285714286,-0.4388489208633093,-0.44927536231884063,-0.45985401459854014,-0.4705882352941177,-0.48148148148148145,-0.4925373134328359,-0.5037593984962406,-0.5151515151515152,-0.5267175572519084,-0.5384615384615384,-0.5503875968992248,-0.5625,-0.5748031496062992,-0.5873015873015873,-0.6,-0.6129032258064516,-0.6260162601626017,-0.639344262295082,-0.6528925619834711,-0.6666666666666667,-0.680672268907563,-0.694915254237288,-0.7094017094017094,-0.7241379310344827,-0.7391304347826088,-0.7543859649122806,-0.7699115044247788,-0.7857142857142857,-0.8018018018018019,-0.8181818181818181,-0.834862385321101,-0.8518518518518519,-0.8691588785046731,-0.8867924528301886,-0.9047619047619047,-0.923076923076923,-0.9417475728155339,-0.9607843137254901,-0.9801980198019802,-1.0,-1.02020202020202,-1.0408163265306123,-1.0618556701030928,-1.0833333333333335,-1.105263157894737,-1.1276595744680853,-1.1505376344086022,-1.173913043478261,-1.197802197802198,-1.2222222222222225,-1.2471910112359552,-1.272727272727273,-1.2988505747126433,-1.325581395348837,-1.352941176470588,-1.3809523809523807,-1.4096385542168672,-1.4390243902439022,-1.4691358024691357,-1.4999999999999998,-1.5316455696202531,-1.564102564102564,-1.5974025974025974,-1.631578947368421,-1.6666666666666667,-1.7027027027027026,-1.7397260273972603,-1.777777777777778,-1.8169014084507045,-1.8571428571428574,-1.8985507246376814,-1.9411764705882355,-1.985074626865672,-2.0303030303030307,-2.0769230769230775,-2.1250000000000004,-2.1746031746031753,-2.2258064516129026,-2.2786885245901636,-2.333333333333333,-2.3898305084745757,-2.4482758620689653,-2.508771929824561,-2.571428571428571,-2.6363636363636362,-2.7037037037037033,-2.773584905660377,-2.846153846153846,-2.9215686274509802,-3.0,-3.0816326530612246,-3.166666666666667,-3.2553191489361706,-3.347826086956522,-3.444444444444445,-3.545454545454546,-3.651162790697675,-3.7619047619047628,-3.8780487804878057,-4.000000000000001,-4.1282051282051295,-4.263157894736843,-4.4054054054054035,-4.5555555555555545,-4.714285714285713,-4.882352941176469,-5.06060606060606,-5.249999999999999,-5.451612903225805,-5.666666666666666,-5.896551724137931,-6.142857142857142,-6.4074074074074066,-6.692307692307692,-7.0,-7.333333333333334,-7.695652173913044,-8.090909090909092,-8.523809523809526,-9.000000000000002,-9.526315789473687,-10.111111111111114,-10.764705882352946,-11.500000000000007,-12.333333333333341,-13.285714285714295,-14.384615384615397,-15.666666666666652,-17.181818181818166,-18.999999999999982,-21.222222222222204,-23.99999999999998,-27.571428571428545,-32.33333333333331,-38.999999999999964,-48.99999999999996,-65.66666666666661,-98.99999999999991,-198.99999999999983,\"NaN\",201.00000000000426,100.99999999999991,67.6666666666671,50.99999999999996,41.00000000000014,34.33333333333331,29.571428571428637,25.99999999999998,23.222222222222257,20.999999999999982,19.1818181818182,17.666666666666654,16.384615384615397,15.285714285714272,14.333333333333341,13.49999999999999,12.764705882352946,12.111111111111102,11.526315789473687,10.999999999999991,10.523809523809526,10.090909090909083,9.695652173913045,9.333333333333327,9.0,8.692307692307699,8.407407407407407,8.142857142857148,7.896551724137931,7.6666666666666705,7.451612903225805,7.2500000000000036,7.06060606060606,6.882352941176473,6.714285714285713,6.555555555555557,6.4054054054054035,6.263157894736843,6.128205128205127,6.000000000000001,5.878048780487803,5.761904761904763,5.651162790697673,5.545454545454546,5.444444444444443,5.347826086956522,5.255319148936168,5.166666666666667,5.081632653061223,5.0,4.9215686274509824,4.846153846153846,4.773584905660379,4.703703703703703,4.636363636363638,4.571428571428571,4.5087719298245625,4.448275862068965,4.389830508474577,4.333333333333333,4.278688524590165,4.225806451612903,4.174603174603175,4.124999999999999,4.0769230769230775,4.030303030303029,3.985074626865672,3.9411764705882346,3.8985507246376816,3.8571428571428563,3.8169014084507045,3.7777777777777772,3.73972602739726,3.7027027027027017,3.6666666666666665,3.6315789473684217,3.5974025974025974,3.5641025641025648,3.531645569620253,3.5000000000000004,3.4691358024691357,3.439024390243903,3.4096385542168672,3.3809523809523814,3.352941176470588,3.3255813953488373,3.2988505747126435,3.272727272727273,3.2471910112359548,3.2222222222222223,3.1978021978021975,3.173913043478261,3.1505376344086016,3.127659574468085,3.1052631578947363,3.0833333333333335,3.0618556701030926,3.0408163265306123,3.02020202020202,3.0,2.9801980198019806,2.9607843137254903,2.9417475728155345,2.923076923076923,2.904761904761905,2.8867924528301887,2.869158878504673,2.8518518518518516,2.834862385321101,2.818181818181818,2.801801801801802,2.7857142857142856,2.769911504424779,2.7543859649122804,2.739130434782609,2.7241379310344827,2.7094017094017095,2.694915254237288,2.6806722689075633,2.6666666666666665,2.6528925619834713,2.6393442622950816,2.6260162601626016,2.6129032258064515,2.6,2.5873015873015874,2.574803149606299,2.5625000000000004,2.550387596899225,2.5384615384615388,2.5267175572519083,2.515151515151515,2.5037593984962405,2.492537313432836,2.4814814814814814,2.4705882352941178,2.45985401459854,2.449275362318841,2.4388489208633093,2.428571428571429,2.4184397163120566,2.408450704225352,2.3986013986013983,2.388888888888889,2.379310344827586,2.3698630136986303,2.3605442176870746,2.3513513513513513,2.3422818791946307,2.3333333333333335,2.3245033112582782,2.3157894736842106,2.3071895424836604,2.2987012987012987,2.2903225806451615,2.282051282051282,2.2738853503184715,2.2658227848101267,2.257861635220126,2.25,2.2422360248447206,2.2345679012345676,2.226993865030675,2.219512195121951,2.2121212121212124,2.2048192771084336,2.197604790419162,2.1904761904761902,2.1834319526627217,2.176470588235294,2.1695906432748537,2.1627906976744184,2.1560693641618496,2.1494252873563218,2.142857142857143,2.1363636363636367,2.1299435028248586,2.1235955056179776,2.11731843575419,2.111111111111111,2.1049723756906076,2.098901098901099,2.092896174863388,2.0869565217391304,2.081081081081081,2.075268817204301,2.06951871657754,2.0638297872340425,2.058201058201058,2.0526315789473686,2.0471204188481673,2.0416666666666665,2.0362694300518136,2.0309278350515463,2.0256410256410255,2.020408163265306,2.015228426395939,2.01010101010101,2.0050251256281406,2.0,1.9950248756218907,1.9900990099009903,1.9852216748768472,1.9803921568627452,1.975609756097561,1.9708737864077672,1.966183574879227,1.9615384615384615,1.9569377990430623,1.9523809523809526,1.9478672985781988,1.9433962264150944,1.9389671361502347,1.9345794392523366,1.9302325581395348,1.9259259259259258,1.9216589861751152,1.9174311926605505,1.9132420091324198,1.909090909090909,1.904977375565611,1.900900900900901,1.8968609865470851,1.8928571428571428,1.8888888888888888,1.8849557522123894,1.8810572687224671,1.8771929824561402,1.8733624454148472,1.8695652173913044,1.865800865800866,1.8620689655172413,1.8583690987124464,1.8547008547008548,1.8510638297872342,1.847457627118644,1.8438818565400843,1.8403361344537816,1.8368200836820086,1.8333333333333333,1.829875518672199,1.8264462809917357,1.823045267489712,1.8196721311475408,1.816326530612245,1.8130081300813008,1.8097165991902835,1.8064516129032258,1.8032128514056225,1.8,1.796812749003984,1.7936507936507937,1.7905138339920947,1.7874015748031495,1.7843137254901962,1.7812500000000002,1.7782101167315174,1.7751937984496124,1.7722007722007722,1.7692307692307694,1.7662835249042144,1.7633587786259541,1.7604562737642586,1.7575757575757576,1.7547169811320753,1.7518796992481203,1.749063670411985,1.746268656716418,1.7434944237918215,1.7407407407407407,1.7380073800738007,1.7352941176470589,1.7326007326007324,1.72992700729927,1.7272727272727273,1.7246376811594204,1.7220216606498195,1.7194244604316546,1.7168458781362006,1.7142857142857144,1.711743772241993,1.7092198581560283,1.7067137809187278,1.704225352112676,1.7017543859649125,1.6993006993006992,1.6968641114982579,1.6944444444444444,1.6920415224913496,1.689655172413793,1.6872852233676976,1.6849315068493151,1.6825938566552903,1.6802721088435373,1.6779661016949152,1.6756756756756757,1.6734006734006734,1.6711409395973154,1.6688963210702341,1.6666666666666667,1.664451827242525,1.6622516556291391,1.66006600660066,1.6578947368421053,1.6557377049180328,1.6535947712418302,1.6514657980456025,1.6493506493506493,1.6472491909385114,1.6451612903225807,1.6430868167202572,1.641025641025641,1.6389776357827477,1.6369426751592357,1.6349206349206349,1.6329113924050633,1.6309148264984228,1.628930817610063,1.6269592476489028,1.625,1.6230529595015577,1.6211180124223603,1.6191950464396283,1.6172839506172838,1.6153846153846154,1.6134969325153374,1.6116207951070338,1.6097560975609755,1.6079027355623101,1.6060606060606062,1.6042296072507554,1.6024096385542168,1.6006006006006006,1.598802395209581,1.5970149253731345,1.5952380952380951,1.5934718100890208,1.5917159763313609,1.5899705014749264,1.588235294117647,1.5865102639296187,1.5847953216374269,1.5830903790087465,1.5813953488372092,1.5797101449275361,1.5780346820809248,1.5763688760806918,1.5747126436781609,1.5730659025787965,1.5714285714285714,1.56980056980057,1.5681818181818183,1.56657223796034,1.5649717514124293,1.563380281690141,1.5617977528089888,1.5602240896358543,1.558659217877095,1.5571030640668524,1.5555555555555556,1.554016620498615,1.5524861878453038,1.5509641873278237,1.5494505494505495,1.547945205479452,1.546448087431694,1.5449591280653951,1.5434782608695652,1.5420054200542004,1.5405405405405406,1.5390835579514826,1.5376344086021505,1.5361930294906165,1.53475935828877,1.5333333333333334,1.5319148936170213,1.530503978779841,1.529100529100529,1.5277044854881265,1.5263157894736843,1.5249343832020998,1.5235602094240837,1.5221932114882506,1.5208333333333333,1.5194805194805194,1.5181347150259068,1.516795865633075,1.5154639175257731,1.5141388174807198,1.5128205128205128,1.5115089514066495,1.510204081632653,1.508905852417303,1.5076142131979695,1.5063291139240507,1.505050505050505,1.5037783375314862,1.5025125628140703,1.5012531328320802,1.5,1.4987531172069826,1.4975124378109452,1.4962779156327544,1.495049504950495,1.4938271604938271,1.4926108374384237,1.4914004914004915,1.4901960784313726,1.488997555012225,1.4878048780487805,1.4866180048661801,1.4854368932038835,1.4842615012106537,1.4830917874396137,1.4819277108433735,1.4807692307692308,1.4796163069544364,1.4784688995215312,1.477326968973747,1.4761904761904763,1.4750593824228029,1.4739336492890995,1.4728132387706856,1.471698113207547,1.4705882352941178,1.4694835680751175,1.468384074941452,1.4672897196261683,1.4662004662004662,1.4651162790697674,1.4640371229698377,1.462962962962963,1.46189376443418,1.4608294930875576,1.4597701149425288,1.4587155963302751,1.4576659038901603,1.45662100456621,1.4555808656036446,1.4545454545454546,1.4535147392290249,1.4524886877828054,1.4514672686230248,1.4504504504504505,1.449438202247191,1.4484304932735426,1.447427293064877,1.4464285714285714,1.44543429844098,1.4444444444444444,1.443458980044346,1.4424778761061947,1.4415011037527594,1.4405286343612336,1.4395604395604396,1.4385964912280702,1.437636761487965,1.4366812227074235,1.4357298474945535,1.434782608695652,1.4338394793926248,1.432900432900433,1.431965442764579,1.4310344827586208,1.4301075268817205,1.4291845493562232,1.4282655246252676,1.4273504273504274,1.4264392324093815,1.425531914893617,1.424628450106157,1.423728813559322,1.4228329809725158,1.4219409282700421,1.4210526315789473,1.4201680672268908,1.419287211740042,1.4184100418410042,1.417536534446764,1.4166666666666667,1.4158004158004158,1.4149377593360997,1.4140786749482401,1.4132231404958677,1.4123711340206186,1.4115226337448559,1.4106776180698153,1.4098360655737705,1.408997955010225,1.4081632653061225,1.4073319755600815,1.4065040650406504,1.4056795131845843,1.4048582995951417,1.404040404040404,1.403225806451613,1.4024144869215291,1.4016064257028111,1.4008016032064128,1.4,1.3992015968063873,1.3984063745019921,1.3976143141153081,1.3968253968253967,1.396039603960396,1.3952569169960474,1.3944773175542406,1.3937007874015748,1.3929273084479372,1.392156862745098,1.3913894324853229,1.390625,1.3898635477582846,1.3891050583657587,1.3883495145631068,1.3875968992248062,1.3868471953578336,1.3861003861003862,1.3853564547206165,1.3846153846153846,1.383877159309021,1.3831417624521074,1.3824091778202676,1.381679389312977,1.380952380952381,1.3802281368821292,1.379506641366224,1.3787878787878787,1.3780718336483933,1.3773584905660377,1.3766478342749529,1.3759398496240602,1.375234521575985,1.3745318352059925,1.3738317757009346,1.373134328358209,1.37243947858473,1.3717472118959109,1.3710575139146568,1.3703703703703702,1.3696857670979667,1.3690036900369005,1.3683241252302025,1.3676470588235294,1.3669724770642202,1.3663003663003663,1.3656307129798904,1.364963503649635,1.3642987249544627,1.3636363636363635,1.3629764065335754,1.3623188405797102,1.3616636528028934,1.3610108303249098,1.3603603603603605,1.3597122302158273,1.3590664272890485,1.3584229390681004,1.3577817531305902,1.3571428571428572,1.35650623885918,1.3558718861209964,1.355239786856128,1.3546099290780143,1.3539823008849556,1.353356890459364,1.3527336860670194,1.352112676056338,1.351493848857645,1.3508771929824561,1.3502626970227671,1.3496503496503496,1.3490401396160558,1.348432055749129,1.3478260869565217,1.3472222222222223,1.3466204506065858,1.3460207612456747,1.3454231433506045,1.3448275862068966,1.3442340791738383,1.3436426116838487,1.3430531732418525,1.3424657534246576,1.341880341880342,1.341296928327645,1.3407155025553663,1.3401360544217686,1.33955857385399,1.3389830508474576,1.338409475465313,1.337837837837838,1.3372681281618888,1.3367003367003367,1.3361344537815125,1.3355704697986577,1.3350083752093802,1.334448160535117,1.333889816360601,1.3333333333333333,1.3327787021630615,1.3322259136212624,1.3316749585406302,1.3311258278145697,1.3305785123966942,1.33003300330033,1.329489291598023,1.3289473684210527,1.3284072249589491,1.3278688524590163,1.3273322422258593,1.326797385620915,1.32626427406199,1.3257328990228012,1.3252032520325203,1.3246753246753247,1.3241491085899513,1.3236245954692556,1.323101777059774,1.3225806451612903,1.322061191626409,1.3215434083601285,1.3210272873194222,1.3205128205128205,1.32,1.3194888178913737,1.3189792663476874,1.3184713375796178,1.3179650238473768,1.3174603174603174,1.316957210776545,1.3164556962025316,1.315955766192733,1.3154574132492114,1.31496062992126,1.3144654088050314,1.3139717425431712,1.3134796238244513,1.3129890453834117,1.3125,1.31201248049922,1.3115264797507789,1.3110419906687403,1.31055900621118,1.310077519379845,1.3095975232198143,1.3091190108191653,1.308641975308642,1.308166409861325,1.3076923076923077,1.3072196620583718,1.3067484662576687,1.3062787136294027,1.305810397553517,1.3053435114503817,1.3048780487804879,1.30441400304414,1.303951367781155,1.3034901365705616,1.303030303030303,1.302571860816944,1.3021148036253776,1.301659125188537,1.3012048192771084,1.300751879699248,1.3003003003003002,1.2998500749625188,1.2994011976047903,1.2989536621823619,1.2985074626865671,1.2980625931445604,1.2976190476190477,1.2971768202080238,1.2967359050445104,1.2962962962962963,1.2958579881656804,1.2954209748892171,1.294985250737463,1.2945508100147276,1.2941176470588236,1.2936857562408224,1.2932551319648093,1.2928257686676428,1.2923976608187135,1.2919708029197081,1.2915451895043732,1.2911208151382825,1.2906976744186047,1.2902757619738752,1.289855072463768,1.2894356005788712,1.2890173410404624,1.2886002886002885,1.2881844380403458,1.2877697841726619,1.2873563218390804,1.2869440459110473,1.2865329512893982,1.2861230329041489,1.2857142857142858,1.2853067047075606,1.2849002849002849,1.2844950213371267,1.2840909090909092,1.2836879432624113,1.2832861189801699,1.2828854314002829,1.2824858757062148,1.2820874471086037,1.2816901408450705,1.2812939521800282,1.2808988764044944,1.2805049088359046,1.280112044817927,1.2797202797202798,1.2793296089385475,1.2789400278940029,1.2785515320334262,1.278164116828929,1.277777777777778,1.277392510402219,1.2770083102493075,1.276625172890733,1.276243093922652,1.2758620689655173,1.275482093663912,1.2751031636863823,1.2747252747252749,1.2743484224965707,1.273972602739726,1.2735978112175101,1.273224043715847,1.2728512960436562,1.2724795640326976,1.272108843537415,1.2717391304347827,1.271370420624152,1.2710027100271002,1.27063599458728,1.2702702702702702,1.269905533063428,1.2695417789757413,1.2691790040376851,1.2688172043010753,1.2684563758389262,1.2680965147453083,1.2677376171352075,1.267379679144385,1.267022696929239,1.2666666666666666,1.2663115845539281,1.2659574468085106,1.2656042496679947,1.2652519893899206,1.2649006622516556,1.2645502645502644,1.2642007926023777,1.2638522427440633,1.2635046113306982,1.263157894736842,1.2628120893561103,1.26246719160105,1.2621231979030143,1.2617801047120418,1.261437908496732,1.2610966057441253,1.2607561929595827,1.2604166666666667,1.2600780234070221,1.2597402597402598,1.2594033722438391,1.2590673575129534,1.2587322121604139,1.2583979328165376,1.2580645161290323,1.2577319587628866,1.2574002574002574,1.25706940874036,1.2567394094993583,1.2564102564102564,1.2560819462227912,1.2557544757033248,1.2554278416347382,1.2551020408163265,1.2547770700636942,1.2544529262086515,1.2541296060991105,1.2538071065989846,1.2534854245880862,1.2531645569620253,1.2528445006321112,1.2525252525252526,1.2522068095838588,1.2518891687657432,1.251572327044025,1.2512562814070352,1.2509410288582183,1.25062656641604,1.2503128911138923,1.25,1.2496878901373283,1.2493765586034913,1.2490660024906601,1.2487562189054726,1.2484472049689441,1.248138957816377,1.2478314745972738,1.2475247524752475,1.2472187886279358,1.2469135802469136,1.2466091245376079,1.2463054187192117,1.2460024600246002,1.2457002457002457,1.2453987730061349,1.2450980392156863,1.244798041615667,1.2444987775061125,1.2442002442002442,1.2439024390243902,1.243605359317905,1.24330900243309,1.2430133657351154,1.2427184466019416,1.2424242424242424,1.242130750605327,1.241837968561064,1.2415458937198067,1.241254523522316,1.2409638554216866,1.2406738868832732,1.2403846153846154,1.240096038415366,1.2398081534772183,1.2395209580838324,1.2392344497607655,1.2389486260454003,1.2386634844868736,1.2383790226460072,1.2380952380952381,1.2378121284185493,1.2375296912114013,1.2372479240806642,1.2369668246445498,1.2366863905325445,1.2364066193853427,1.2361275088547816,1.2358490566037736,1.2355712603062425,1.2352941176470589,1.235017626321974,1.2347417840375587,1.2344665885111372,1.234192037470726,1.2339181286549707,1.233644859813084,1.2333722287047841,1.2331002331002332,1.2328288707799768,1.2325581395348837,1.232288037166086,1.2320185614849188,1.231749710312862,1.2314814814814814,1.2312138728323698,1.2309468822170901,1.2306805074971165,1.230414746543779,1.2301495972382048,1.2298850574712643,1.2296211251435132,1.2293577981651376,1.2290950744558993,1.22883295194508,1.2285714285714286,1.2283105022831051,1.2280501710376284,1.2277904328018223,1.2275312855517635,1.2272727272727273,1.2270147559591373,1.2267573696145124,1.2265005662514157,1.2262443438914028,1.2259887005649717,1.2257336343115124,1.225479143179256,1.2252252252252251,1.2249718785151855,1.2247191011235954,1.2244668911335579,1.2242152466367713,1.2239641657334825,1.2237136465324385,1.223463687150838,1.2232142857142856,1.2229654403567447,1.22271714922049,1.2224694104560623]},\"selected\":{\"id\":\"1501\",\"type\":\"Selection\"},\"selection_policy\":{\"id\":\"1502\",\"type\":\"UnionRenderers\"}},\"id\":\"1452\",\"type\":\"ColumnDataSource\"},{\"attributes\":{\"dimension\":1,\"ticker\":{\"id\":\"1441\",\"type\":\"BasicTicker\"}},\"id\":\"1444\",\"type\":\"Grid\"},{\"attributes\":{\"formatter\":{\"id\":\"1496\",\"type\":\"BasicTickFormatter\"},\"ticker\":{\"id\":\"1441\",\"type\":\"BasicTicker\"}},\"id\":\"1440\",\"type\":\"LinearAxis\"},{\"attributes\":{\"below\":[{\"id\":\"1402\",\"type\":\"LinearAxis\"}],\"center\":[{\"id\":\"1406\",\"type\":\"Grid\"},{\"id\":\"1411\",\"type\":\"Grid\"}],\"left\":[{\"id\":\"1407\",\"type\":\"LinearAxis\"}],\"plot_height\":300,\"plot_width\":300,\"renderers\":[{\"id\":\"1422\",\"type\":\"GlyphRenderer\"}],\"title\":{\"id\":\"1392\",\"type\":\"Title\"},\"toolbar\":{\"id\":\"1415\",\"type\":\"Toolbar\"},\"x_range\":{\"id\":\"1394\",\"type\":\"DataRange1d\"},\"x_scale\":{\"id\":\"1398\",\"type\":\"LinearScale\"},\"y_range\":{\"id\":\"1396\",\"type\":\"DataRange1d\"},\"y_scale\":{\"id\":\"1400\",\"type\":\"LinearScale\"}},\"id\":\"1391\",\"subtype\":\"Figure\",\"type\":\"Plot\"},{\"attributes\":{\"active_drag\":\"auto\",\"active_inspect\":\"auto\",\"active_multi\":null,\"active_scroll\":\"auto\",\"active_tap\":\"auto\",\"tools\":[{\"id\":\"1445\",\"type\":\"PanTool\"},{\"id\":\"1446\",\"type\":\"WheelZoomTool\"},{\"id\":\"1447\",\"type\":\"ResetTool\"}]},\"id\":\"1448\",\"type\":\"Toolbar\"},{\"attributes\":{},\"id\":\"1413\",\"type\":\"WheelZoomTool\"},{\"attributes\":{\"line_color\":\"#1f77b4\",\"line_width\":2,\"x\":{\"field\":\"x\"},\"y\":{\"field\":\"y\"}},\"id\":\"1453\",\"type\":\"Line\"},{\"attributes\":{},\"id\":\"1445\",\"type\":\"PanTool\"},{\"attributes\":{\"formatter\":{\"id\":\"1488\",\"type\":\"BasicTickFormatter\"},\"ticker\":{\"id\":\"1375\",\"type\":\"BasicTicker\"}},\"id\":\"1374\",\"type\":\"LinearAxis\"},{\"attributes\":{},\"id\":\"1446\",\"type\":\"WheelZoomTool\"},{\"attributes\":{\"dimension\":1,\"ticker\":{\"id\":\"1375\",\"type\":\"BasicTicker\"}},\"id\":\"1378\",\"type\":\"Grid\"},{\"attributes\":{\"callback\":null,\"data\":{\"x\":[-5.0,-4.99,-4.98,-4.97,-4.96,-4.95,-4.94,-4.93,-4.92,-4.91,-4.9,-4.89,-4.88,-4.87,-4.86,-4.85,-4.84,-4.83,-4.82,-4.81,-4.8,-4.79,-4.78,-4.77,-4.76,-4.75,-4.74,-4.73,-4.72,-4.71,-4.7,-4.69,-4.68,-4.67,-4.66,-4.65,-4.64,-4.63,-4.62,-4.61,-4.6,-4.59,-4.58,-4.57,-4.56,-4.55,-4.54,-4.53,-4.52,-4.51,-4.5,-4.49,-4.48,-4.47,-4.46,-4.45,-4.44,-4.43,-4.42,-4.41,-4.4,-4.39,-4.38,-4.37,-4.36,-4.35,-4.34,-4.33,-4.32,-4.31,-4.3,-4.29,-4.28,-4.27,-4.26,-4.25,-4.24,-4.23,-4.22,-4.21,-4.2,-4.19,-4.18,-4.17,-4.16,-4.15,-4.14,-4.13,-4.12,-4.11,-4.1,-4.09,-4.08,-4.07,-4.06,-4.05,-4.04,-4.03,-4.02,-4.01,-4.0,-3.99,-3.98,-3.97,-3.96,-3.95,-3.94,-3.93,-3.92,-3.91,-3.9,-3.89,-3.88,-3.87,-3.86,-3.85,-3.84,-3.83,-3.82,-3.81,-3.8,-3.79,-3.78,-3.77,-3.76,-3.75,-3.74,-3.73,-3.72,-3.71,-3.7,-3.69,-3.68,-3.67,-3.66,-3.65,-3.64,-3.63,-3.62,-3.61,-3.6,-3.59,-3.58,-3.57,-3.56,-3.55,-3.54,-3.53,-3.52,-3.51,-3.5,-3.49,-3.48,-3.47,-3.46,-3.45,-3.44,-3.43,-3.42,-3.41,-3.4,-3.39,-3.38,-3.37,-3.36,-3.35,-3.34,-3.33,-3.32,-3.31,-3.3,-3.29,-3.28,-3.27,-3.26,-3.25,-3.24,-3.23,-3.22,-3.21,-3.2,-3.19,-3.18,-3.17,-3.16,-3.15,-3.14,-3.13,-3.12,-3.11,-3.1,-3.09,-3.08,-3.07,-3.06,-3.05,-3.04,-3.03,-3.02,-3.01,-3.0,-2.99,-2.98,-2.97,-2.96,-2.95,-2.94,-2.93,-2.92,-2.91,-2.9,-2.89,-2.88,-2.87,-2.86,-2.85,-2.84,-2.83,-2.82,-2.81,-2.8,-2.79,-2.78,-2.77,-2.76,-2.75,-2.74,-2.73,-2.72,-2.71,-2.7,-2.69,-2.68,-2.67,-2.66,-2.65,-2.64,-2.63,-2.62,-2.61,-2.6,-2.59,-2.58,-2.57,-2.56,-2.55,-2.54,-2.53,-2.52,-2.51,-2.5,-2.49,-2.48,-2.47,-2.46,-2.45,-2.44,-2.43,-2.42,-2.41,-2.4,-2.39,-2.38,-2.37,-2.36,-2.35,-2.34,-2.33,-2.32,-2.31,-2.3,-2.29,-2.28,-2.27,-2.26,-2.25,-2.24,-2.23,-2.22,-2.21,-2.2,-2.19,-2.18,-2.17,-2.16,-2.15,-2.14,-2.13,-2.12,-2.11,-2.1,-2.09,-2.08,-2.07,-2.06,-2.05,-2.04,-2.03,-2.02,-2.01,-2.0,-1.99,-1.98,-1.97,-1.96,-1.95,-1.94,-1.93,-1.92,-1.91,-1.9,-1.89,-1.88,-1.87,-1.86,-1.85,-1.84,-1.83,-1.82,-1.81,-1.8,-1.79,-1.78,-1.77,-1.76,-1.75,-1.74,-1.73,-1.72,-1.71,-1.7,-1.69,-1.68,-1.67,-1.66,-1.65,-1.64,-1.63,-1.62,-1.61,-1.6,-1.59,-1.58,-1.57,-1.56,-1.55,-1.54,-1.53,-1.52,-1.51,-1.5,-1.49,-1.48,-1.47,-1.46,-1.45,-1.44,-1.43,-1.42,-1.41,-1.4,-1.39,-1.38,-1.37,-1.36,-1.35,-1.34,-1.33,-1.32,-1.31,-1.3,-1.29,-1.28,-1.27,-1.26,-1.25,-1.24,-1.23,-1.22,-1.21,-1.2,-1.19,-1.18,-1.17,-1.16,-1.15,-1.14,-1.13,-1.12,-1.11,-1.1,-1.09,-1.08,-1.07,-1.06,-1.05,-1.04,-1.03,-1.02,-1.01,-1.0,-0.99,-0.98,-0.97,-0.96,-0.95,-0.94,-0.93,-0.92,-0.91,-0.9,-0.89,-0.88,-0.87,-0.86,-0.85,-0.84,-0.83,-0.82,-0.81,-0.8,-0.79,-0.78,-0.77,-0.76,-0.75,-0.74,-0.73,-0.72,-0.71,-0.7,-0.69,-0.68,-0.67,-0.66,-0.65,-0.64,-0.63,-0.62,-0.61,-0.6,-0.59,-0.58,-0.57,-0.56,-0.55,-0.54,-0.53,-0.52,-0.51,-0.5,-0.49,-0.48,-0.47,-0.46,-0.45,-0.44,-0.43,-0.42,-0.41,-0.4,-0.39,-0.38,-0.37,-0.36,-0.35,-0.34,-0.33,-0.32,-0.31,-0.3,-0.29,-0.28,-0.27,-0.26,-0.25,-0.24,-0.23,-0.22,-0.21,-0.2,-0.19,-0.18,-0.17,-0.16,-0.15,-0.14,-0.13,-0.12,-0.11,-0.1,-0.09,-0.08,-0.07,-0.06,-0.05,-0.04,-0.03,-0.02,-0.01,0.0,0.01,0.02,0.03,0.04,0.05,0.06,0.07,0.08,0.09,0.1,0.11,0.12,0.13,0.14,0.15,0.16,0.17,0.18,0.19,0.2,0.21,0.22,0.23,0.24,0.25,0.26,0.27,0.28,0.29,0.3,0.31,0.32,0.33,0.34,0.35,0.36,0.37,0.38,0.39,0.4,0.41,0.42,0.43,0.44,0.45,0.46,0.47,0.48,0.49,0.5,0.51,0.52,0.53,0.54,0.55,0.56,0.57,0.58,0.59,0.6,0.61,0.62,0.63,0.64,0.65,0.66,0.67,0.68,0.69,0.7,0.71,0.72,0.73,0.74,0.75,0.76,0.77,0.78,0.79,0.8,0.81,0.82,0.83,0.84,0.85,0.86,0.87,0.88,0.89,0.9,0.91,0.92,0.93,0.94,0.95,0.96,0.97,0.98,0.99,1.0,1.01,1.02,1.03,1.04,1.05,1.06,1.07,1.08,1.09,1.1,1.11,1.12,1.13,1.14,1.15,1.16,1.17,1.18,1.19,1.2,1.21,1.22,1.23,1.24,1.25,1.26,1.27,1.28,1.29,1.3,1.31,1.32,1.33,1.34,1.35,1.36,1.37,1.38,1.39,1.4,1.41,1.42,1.43,1.44,1.45,1.46,1.47,1.48,1.49,1.5,1.51,1.52,1.53,1.54,1.55,1.56,1.57,1.58,1.59,1.6,1.61,1.62,1.63,1.64,1.65,1.66,1.67,1.68,1.69,1.7,1.71,1.72,1.73,1.74,1.75,1.76,1.77,1.78,1.79,1.8,1.81,1.82,1.83,1.84,1.85,1.86,1.87,1.88,1.89,1.9,1.91,1.92,1.93,1.94,1.95,1.96,1.97,1.98,1.99,2.0,2.01,2.02,2.03,2.04,2.05,2.06,2.07,2.08,2.09,2.1,2.11,2.12,2.13,2.14,2.15,2.16,2.17,2.18,2.19,2.2,2.21,2.22,2.23,2.24,2.25,2.26,2.27,2.28,2.29,2.3,2.31,2.32,2.33,2.34,2.35,2.36,2.37,2.38,2.39,2.4,2.41,2.42,2.43,2.44,2.45,2.46,2.47,2.48,2.49,2.5,2.51,2.52,2.53,2.54,2.55,2.56,2.57,2.58,2.59,2.6,2.61,2.62,2.63,2.64,2.65,2.66,2.67,2.68,2.69,2.7,2.71,2.72,2.73,2.74,2.75,2.76,2.77,2.78,2.79,2.8,2.81,2.82,2.83,2.84,2.85,2.86,2.87,2.88,2.89,2.9,2.91,2.92,2.93,2.94,2.95,2.96,2.97,2.98,2.99,3.0,3.01,3.02,3.03,3.04,3.05,3.06,3.07,3.08,3.09,3.1,3.11,3.12,3.13,3.14,3.15,3.16,3.17,3.18,3.19,3.2,3.21,3.22,3.23,3.24,3.25,3.26,3.27,3.28,3.29,3.3,3.31,3.32,3.33,3.34,3.35,3.36,3.37,3.38,3.39,3.4,3.41,3.42,3.43,3.44,3.45,3.46,3.47,3.48,3.49,3.5,3.51,3.52,3.53,3.54,3.55,3.56,3.57,3.58,3.59,3.6,3.61,3.62,3.63,3.64,3.65,3.66,3.67,3.68,3.69,3.7,3.71,3.72,3.73,3.74,3.75,3.76,3.77,3.78,3.79,3.8,3.81,3.82,3.83,3.84,3.85,3.86,3.87,3.88,3.89,3.9,3.91,3.92,3.93,3.94,3.95,3.96,3.97,3.98,3.99,4.0,4.01,4.02,4.03,4.04,4.05,4.06,4.07,4.08,4.09,4.1,4.11,4.12,4.13,4.14,4.15,4.16,4.17,4.18,4.19,4.2,4.21,4.22,4.23,4.24,4.25,4.26,4.27,4.28,4.29,4.3,4.31,4.32,4.33,4.34,4.35,4.36,4.37,4.38,4.39,4.4,4.41,4.42,4.43,4.44,4.45,4.46,4.47,4.48,4.49,4.5,4.51,4.52,4.53,4.54,4.55,4.56,4.57,4.58,4.59,4.6,4.61,4.62,4.63,4.64,4.65,4.66,4.67,4.68,4.69,4.7,4.71,4.72,4.73,4.74,4.75,4.76,4.77,4.78,4.79,4.8,4.81,4.82,4.83,4.84,4.85,4.86,4.87,4.88,4.89,4.9,4.91,4.92,4.93,4.94,4.95,4.96,4.97,4.98,4.99,5.0,5.01,5.02,5.03,5.04,5.05,5.06,5.07,5.08,5.09,5.1,5.11,5.12,5.13,5.14,5.15,5.16,5.17,5.18,5.19,5.2,5.21,5.22,5.23,5.24,5.25,5.26,5.27,5.28,5.29,5.3,5.31,5.32,5.33,5.34,5.35,5.36,5.37,5.38,5.39,5.4,5.41,5.42,5.43,5.44,5.45,5.46,5.47,5.48,5.49,5.5,5.51,5.52,5.53,5.54,5.55,5.56,5.57,5.58,5.59,5.6,5.61,5.62,5.63,5.64,5.65,5.66,5.67,5.68,5.69,5.7,5.71,5.72,5.73,5.74,5.75,5.76,5.77,5.78,5.79,5.8,5.81,5.82,5.83,5.84,5.85,5.86,5.87,5.88,5.89,5.9,5.91,5.92,5.93,5.94,5.95,5.96,5.97,5.98,5.99,6.0,6.01,6.02,6.03,6.04,6.05,6.06,6.07,6.08,6.09,6.1,6.11,6.12,6.13,6.14,6.15,6.16,6.17,6.18,6.19,6.2,6.21,6.22,6.23,6.24,6.25,6.26,6.27,6.28,6.29,6.3,6.31,6.32,6.33,6.34,6.35,6.36,6.37,6.38,6.39,6.4,6.41,6.42,6.43,6.44,6.45,6.46,6.47,6.48,6.49,6.5,6.51,6.52,6.53,6.54,6.55,6.56,6.57,6.58,6.59,6.6,6.61,6.62,6.63,6.64,6.65,6.66,6.67,6.68,6.69,6.7,6.71,6.72,6.73,6.74,6.75,6.76,6.77,6.78,6.79,6.8,6.81,6.82,6.83,6.84,6.85,6.86,6.87,6.88,6.89,6.9,6.91,6.92,6.93,6.94,6.95,6.96,6.97,6.98,6.99,7.0,7.01,7.02,7.03,7.04,7.05,7.06,7.07,7.08,7.09,7.1,7.11,7.12,7.13,7.14,7.15,7.16,7.17,7.18,7.19,7.2,7.21,7.22,7.23,7.24,7.25,7.26,7.27,7.28,7.29,7.3,7.31,7.32,7.33,7.34,7.35,7.36,7.37,7.38,7.39,7.4,7.41,7.42,7.43,7.44,7.45,7.46,7.47,7.48,7.49,7.5,7.51,7.52,7.53,7.54,7.55,7.56,7.57,7.58,7.59,7.6,7.61,7.62,7.63,7.64,7.65,7.66,7.67,7.68,7.69,7.7,7.71,7.72,7.73,7.74,7.75,7.76,7.77,7.78,7.79,7.8,7.81,7.82,7.83,7.84,7.85,7.86,7.87,7.88,7.89,7.9,7.91,7.92,7.93,7.94,7.95,7.96,7.97,7.98,7.99,8.0,8.01,8.02,8.03,8.04,8.05,8.06,8.07,8.08,8.09,8.1,8.11,8.12,8.13,8.14,8.15,8.16,8.17,8.18,8.19,8.2,8.21,8.22,8.23,8.24,8.25,8.26,8.27,8.28,8.29,8.3,8.31,8.32,8.33,8.34,8.35,8.36,8.37,8.38,8.39,8.4,8.41,8.42,8.43,8.44,8.45,8.46,8.47,8.48,8.49,8.5,8.51,8.52,8.53,8.54,8.55,8.56,8.57,8.58,8.59,8.6,8.61,8.62,8.63,8.64,8.65,8.66,8.67,8.68,8.69,8.7,8.71,8.72,8.73,8.74,8.75,8.76,8.77,8.78,8.79,8.8,8.81,8.82,8.83,8.84,8.85,8.86,8.87,8.88,8.89,8.9,8.91,8.92,8.93,8.94,8.95,8.96,8.97,8.98,8.99,9.0,9.01,9.02,9.03,9.04,9.05,9.06,9.07,9.08,9.09,9.1,9.11,9.12,9.13,9.14,9.15,9.16,9.17,9.18,9.19,9.2,9.21,9.22,9.23,9.24,9.25,9.26,9.27,9.28,9.29,9.3,9.31,9.32,9.33,9.34,9.35,9.36,9.37,9.38,9.39,9.4,9.41,9.42,9.43,9.44,9.45,9.46,9.47,9.48,9.49,9.5,9.51,9.52,9.53,9.54,9.55,9.56,9.57,9.58,9.59,9.6,9.61,9.62,9.63,9.64,9.65,9.66,9.67,9.68,9.69,9.7,9.71,9.72,9.73,9.74,9.75,9.76,9.77,9.78,9.79,9.8,9.81,9.82,9.83,9.84,9.85,9.86,9.87,9.88,9.89,9.9,9.91,9.92,9.93,9.94,9.95,9.96,9.97,9.98,9.99,10.0,10.01,10.02,10.03,10.04,10.05,10.06,10.07,10.08,10.09,10.1,10.11,10.12,10.13,10.14,10.15,10.16,10.17,10.18,10.19,10.2,10.21,10.22,10.23,10.24,10.25,10.26,10.27,10.28,10.29,10.3,10.31,10.32,10.33,10.34,10.35,10.36,10.37,10.38,10.39,10.4,10.41,10.42,10.43,10.44,10.45,10.46,10.47,10.48,10.49,10.5,10.51,10.52,10.53,10.54,10.55,10.56,10.57,10.58,10.59,10.6,10.61,10.62,10.63,10.64,10.65,10.66,10.67,10.68,10.69,10.7,10.71,10.72,10.73,10.74,10.75,10.76,10.77,10.78,10.79,10.8,10.81,10.82,10.83,10.84,10.85,10.86,10.87,10.88,10.89,10.9,10.91,10.92,10.93,10.94,10.95,10.96,10.97,10.98,10.99],\"y\":[28.0,27.900100000000002,27.800400000000003,27.700899999999997,27.6016,27.5025,27.403600000000004,27.304899999999996,27.2064,27.1081,27.010000000000005,26.912099999999995,26.8144,26.716900000000003,26.619600000000002,26.522499999999997,26.4256,26.3289,26.232400000000002,26.136099999999995,26.04,25.9441,25.8484,25.752899999999997,25.6576,25.5625,25.4676,25.372900000000005,25.278399999999998,25.1841,25.090000000000003,24.996100000000002,24.902399999999997,24.808899999999998,24.715600000000002,24.622500000000002,24.5296,24.436899999999998,24.3444,24.252100000000002,24.159999999999997,24.068099999999998,23.9764,23.884900000000002,23.793599999999998,23.702499999999997,23.6116,23.5209,23.430399999999995,23.3401,23.25,23.160100000000003,23.070400000000003,22.9809,22.8916,22.802500000000002,22.713600000000003,22.624899999999997,22.5364,22.4481,22.360000000000003,22.2721,22.1844,22.0969,22.009600000000002,21.922499999999996,21.8356,21.7489,21.6624,21.576099999999997,21.49,21.4041,21.3184,21.232899999999997,21.147599999999997,21.0625,20.977600000000002,20.892900000000004,20.8084,20.7241,20.64,20.556100000000004,20.472399999999997,20.3889,20.305600000000002,20.222500000000004,20.139599999999998,20.0569,19.9744,19.892100000000003,19.81,19.728099999999998,19.6464,19.5649,19.483599999999996,19.4025,19.3216,19.240900000000003,19.160399999999996,19.080099999999998,19.0,18.9201,18.840400000000002,18.7609,18.6816,18.6025,18.523600000000002,18.4449,18.3664,18.2881,18.21,18.1321,18.0544,17.9769,17.8996,17.8225,17.7456,17.6689,17.592399999999998,17.5161,17.439999999999998,17.3641,17.2884,17.212899999999998,17.1376,17.0625,16.9876,16.9129,16.8384,16.7641,16.69,16.6161,16.5424,16.468899999999998,16.3956,16.322499999999998,16.2496,16.1769,16.1044,16.0321,15.96,15.8881,15.8164,15.7449,15.6736,15.6025,15.531600000000001,15.460899999999999,15.3904,15.320099999999998,15.25,15.180100000000001,15.1104,15.0409,14.9716,14.902500000000002,14.833599999999999,14.7649,14.696399999999999,14.628100000000002,14.559999999999999,14.4921,14.424399999999999,14.356900000000001,14.289599999999998,14.2225,14.1556,14.0889,14.0224,13.956100000000001,13.889999999999999,13.8241,13.758399999999998,13.6929,13.6276,13.5625,13.497600000000002,13.4329,13.368400000000001,13.3041,13.240000000000002,13.1761,13.112400000000001,13.0489,12.985600000000002,12.9225,12.8596,12.796899999999999,12.7344,12.672099999999999,12.610000000000001,12.5481,12.4864,12.4249,12.3636,12.302499999999998,12.2416,12.1809,12.1204,12.060099999999998,12.0,11.940100000000001,11.8804,11.820900000000002,11.7616,11.7025,11.6436,11.584900000000001,11.526399999999999,11.468100000000002,11.41,11.3521,11.2944,11.2369,11.179599999999999,11.1225,11.0656,11.0089,10.952399999999999,10.8961,10.84,10.7841,10.728399999999999,10.6729,10.6176,10.5625,10.5076,10.4529,10.398400000000002,10.344100000000001,10.290000000000001,10.2361,10.182400000000001,10.1289,10.075600000000001,10.0225,9.9696,9.916899999999998,9.8644,9.8121,9.760000000000002,9.708099999999998,9.656400000000001,9.604899999999999,9.5536,9.5025,9.4516,9.4009,9.3504,9.300099999999999,9.25,9.2001,9.150400000000001,9.100900000000001,9.0516,9.002500000000001,8.9536,8.904900000000001,8.8564,8.8081,8.76,8.7121,8.6644,8.616900000000001,8.5696,8.5225,8.4756,8.4289,8.3824,8.3361,8.29,8.2441,8.1984,8.152899999999999,8.107599999999998,8.0625,8.017600000000002,7.9729,7.928400000000001,7.8841,7.840000000000001,7.7961,7.752400000000001,7.7089,7.6656,7.6225,7.5796,7.536899999999999,7.494400000000001,7.4521,7.41,7.368099999999999,7.3264000000000005,7.2848999999999995,7.2436,7.2025,7.1616,7.120899999999999,7.0804,7.040099999999999,7.0,6.960100000000001,6.9204,6.8809000000000005,6.8416,6.8025,6.7636,6.7249,6.6864,6.6480999999999995,6.609999999999999,6.5721,6.5344,6.4969,6.4596,6.4225,6.3856,6.3489,6.3124,6.2761,6.24,6.2041,6.1684,6.1329,6.0976,6.0625,6.0276,5.992900000000001,5.958399999999999,5.924099999999999,5.89,5.8561,5.8224,5.7889,5.755599999999999,5.7225,5.6895999999999995,5.6569,5.6244000000000005,5.5921,5.5600000000000005,5.5281,5.4964,5.4649,5.4336,5.4025,5.3716,5.3408999999999995,5.3104,5.2801,5.25,5.2201,5.1904,5.1609,5.1316,5.1025,5.0736,5.0449,5.0164,4.988099999999999,4.96,4.9321,4.9044,4.8769,4.849600000000001,4.8225,4.7956,4.7689,4.7424,4.7161,4.69,4.6641,4.6384,4.6129,4.5876,4.5625,4.5376,4.5129,4.4884,4.4641,4.4399999999999995,4.4161,4.3924,4.3689,4.3456,4.3225,4.2996,4.2768999999999995,4.2544,4.2321,4.21,4.1881,4.1664,4.1449,4.1236,4.1025,4.0816,4.0609,4.0404,4.0201,4.0,3.9801,3.9604,3.9409,3.9215999999999998,3.9025,3.8836,3.8649,3.8464,3.8281,3.81,3.7921,3.7744,3.7569,3.7396,3.7225,3.7056,3.6889,3.6723999999999997,3.6561000000000003,3.64,3.6241000000000003,3.6084,3.5929,3.5776,3.5625,3.5476,3.5328999999999997,3.5183999999999997,3.5041,3.4899999999999998,3.4760999999999997,3.4624,3.4489,3.4356,3.4225,3.4096,3.3969,3.3844,3.3721,3.36,3.3481,3.3364,3.3249,3.3136,3.3025,3.2916,3.2809,3.2704,3.2601,3.25,3.2401,3.2304,3.2209,3.2116,3.2025,3.1936,3.1849,3.1764,3.1681,3.16,3.1521,3.1444,3.1369,3.1296,3.1225,3.1156,3.1089,3.1024,3.0961,3.09,3.0841,3.0784,3.0729,3.0676,3.0625,3.0576,3.0529,3.0484,3.0441,3.04,3.0361,3.0324,3.0289,3.0256,3.0225,3.0196,3.0169,3.0144,3.0121,3.01,3.0081,3.0064,3.0049,3.0036,3.0025,3.0016,3.0009,3.0004,3.0001,3.0,3.0001,3.0004,3.0009,3.0016,3.0025,3.0036,3.0049,3.0064,3.0081,3.01,3.0121,3.0144,3.0169,3.0196,3.0225,3.0256,3.0289,3.0324,3.0361,3.04,3.0441,3.0484,3.0529,3.0576,3.0625,3.0676,3.0729,3.0784,3.0841,3.09,3.0961,3.1024,3.1089,3.1156,3.1225,3.1296,3.1369,3.1444,3.1521,3.16,3.1681,3.1764,3.1849,3.1936,3.2025,3.2116,3.2209,3.2304,3.2401,3.25,3.2601,3.2704,3.2809,3.2916,3.3025,3.3136,3.3249,3.3364,3.3481,3.36,3.3721,3.3844,3.3969,3.4096,3.4225,3.4356,3.4489,3.4624,3.4760999999999997,3.4899999999999998,3.5041,3.5183999999999997,3.5328999999999997,3.5476,3.5625,3.5776,3.5929,3.6084,3.6241000000000003,3.64,3.6561000000000003,3.6723999999999997,3.6889,3.7056,3.7225,3.7396,3.7569,3.7744,3.7921,3.81,3.8281,3.8464,3.8649,3.8836,3.9025,3.9215999999999998,3.9409,3.9604,3.9801,4.0,4.0201,4.0404,4.0609,4.0816,4.1025,4.1236,4.1449,4.1664,4.1881,4.21,4.2321,4.2544,4.2768999999999995,4.2996,4.3225,4.3456,4.3689,4.3924,4.4161,4.4399999999999995,4.4641,4.4884,4.5129,4.5376,4.5625,4.5876,4.6129,4.6384,4.6641,4.69,4.7161,4.7424,4.7689,4.7956,4.8225,4.849600000000001,4.8769,4.9044,4.9321,4.96,4.988099999999999,5.0164,5.0449,5.0736,5.1025,5.1316,5.1609,5.1904,5.2201,5.25,5.2801,5.3104,5.3408999999999995,5.3716,5.4025,5.4336,5.4649,5.4964,5.5281,5.5600000000000005,5.5921,5.6244000000000005,5.6569,5.6895999999999995,5.7225,5.755599999999999,5.7889,5.8224,5.8561,5.89,5.924099999999999,5.958399999999999,5.992900000000001,6.0276,6.0625,6.0976,6.1329,6.1684,6.2041,6.24,6.2761,6.3124,6.3489,6.3856,6.4225,6.4596,6.4969,6.5344,6.5721,6.609999999999999,6.6480999999999995,6.6864,6.7249,6.7636,6.8025,6.8416,6.8809000000000005,6.9204,6.960100000000001,7.0,7.040099999999999,7.0804,7.120899999999999,7.1616,7.2025,7.2436,7.2848999999999995,7.3264000000000005,7.368099999999999,7.41,7.4521,7.494400000000001,7.536899999999999,7.5796,7.6225,7.6656,7.7089,7.752400000000001,7.7961,7.840000000000001,7.8841,7.928400000000001,7.9729,8.017600000000002,8.0625,8.107599999999998,8.152899999999999,8.1984,8.2441,8.29,8.3361,8.3824,8.4289,8.4756,8.5225,8.5696,8.616900000000001,8.6644,8.7121,8.76,8.8081,8.8564,8.904900000000001,8.9536,9.002500000000001,9.0516,9.100900000000001,9.150400000000001,9.2001,9.25,9.300099999999999,9.3504,9.4009,9.4516,9.5025,9.5536,9.604899999999999,9.656400000000001,9.708099999999998,9.760000000000002,9.8121,9.8644,9.916899999999998,9.9696,10.0225,10.075600000000001,10.1289,10.182400000000001,10.2361,10.290000000000001,10.344100000000001,10.398400000000002,10.4529,10.5076,10.5625,10.6176,10.6729,10.728399999999999,10.7841,10.84,10.8961,10.952399999999999,11.0089,11.0656,11.1225,11.179599999999999,11.2369,11.2944,11.3521,11.41,11.468100000000002,11.526399999999999,11.584900000000001,11.6436,11.7025,11.7616,11.820900000000002,11.8804,11.940100000000001,12.0,12.060099999999998,12.1204,12.1809,12.2416,12.302499999999998,12.3636,12.4249,12.4864,12.5481,12.610000000000001,12.672099999999999,12.7344,12.796899999999999,12.8596,12.9225,12.985600000000002,13.0489,13.112400000000001,13.1761,13.240000000000002,13.3041,13.368400000000001,13.4329,13.497600000000002,13.5625,13.6276,13.6929,13.758399999999998,13.8241,13.889999999999999,13.956100000000001,14.0224,14.0889,14.1556,14.2225,14.289599999999998,14.356900000000001,14.424399999999999,14.4921,14.559999999999999,14.628100000000002,14.696399999999999,14.7649,14.833599999999999,14.902500000000002,14.9716,15.0409,15.1104,15.180100000000001,15.25,15.320099999999998,15.3904,15.460899999999999,15.531600000000001,15.6025,15.6736,15.7449,15.8164,15.8881,15.96,16.0321,16.1044,16.1769,16.2496,16.322499999999998,16.3956,16.468899999999998,16.5424,16.6161,16.69,16.7641,16.8384,16.9129,16.9876,17.0625,17.1376,17.212899999999998,17.2884,17.3641,17.439999999999998,17.5161,17.592399999999998,17.6689,17.7456,17.8225,17.8996,17.9769,18.0544,18.1321,18.21,18.2881,18.3664,18.4449,18.523600000000002,18.6025,18.6816,18.7609,18.840400000000002,18.9201,19.0,19.080099999999998,19.160399999999996,19.240900000000003,19.3216,19.4025,19.483599999999996,19.5649,19.6464,19.728099999999998,19.81,19.892100000000003,19.9744,20.0569,20.139599999999998,20.222500000000004,20.305600000000002,20.3889,20.472399999999997,20.556100000000004,20.64,20.7241,20.8084,20.892900000000004,20.977600000000002,21.0625,21.147599999999997,21.232899999999997,21.3184,21.4041,21.49,21.576099999999997,21.6624,21.7489,21.8356,21.922499999999996,22.009600000000002,22.0969,22.1844,22.2721,22.360000000000003,22.4481,22.5364,22.624899999999997,22.713600000000003,22.802500000000002,22.8916,22.9809,23.070400000000003,23.160100000000003,23.25,23.3401,23.430399999999995,23.5209,23.6116,23.702499999999997,23.793599999999998,23.884900000000002,23.9764,24.068099999999998,24.159999999999997,24.252100000000002,24.3444,24.436899999999998,24.5296,24.622500000000002,24.715600000000002,24.808899999999998,24.902399999999997,24.996100000000002,25.090000000000003,25.1841,25.278399999999998,25.372900000000005,25.4676,25.5625,25.6576,25.752899999999997,25.8484,25.9441,26.04,26.136099999999995,26.232400000000002,26.3289,26.4256,26.522499999999997,26.619600000000002,26.716900000000003,26.8144,26.912099999999995,27.010000000000005,27.1081,27.2064,27.304899999999996,27.403600000000004,27.5025,27.6016,27.700899999999997,27.800400000000003,27.900100000000002,28.0,28.100099999999998,28.200399999999995,28.300900000000002,28.401600000000002,28.502499999999998,28.603599999999997,28.704900000000002,28.8064,28.908099999999997,29.009999999999998,29.1121,29.2144,29.3169,29.419599999999996,29.522500000000004,29.625600000000002,29.7289,29.832399999999996,29.936100000000003,30.040000000000003,30.144099999999998,30.248399999999997,30.352900000000005,30.457600000000003,30.5625,30.667599999999997,30.772899999999996,30.878400000000003,30.9841,31.09,31.196099999999994,31.302400000000002,31.4089,31.5156,31.622499999999995,31.729600000000005,31.8369,31.944399999999998,32.052099999999996,32.160000000000004,32.268100000000004,32.376400000000004,32.484899999999996,32.59360000000001,32.7025,32.8116,32.920899999999996,33.0304,33.140100000000004,33.25,33.3601,33.4704,33.5809,33.6916,33.802499999999995,33.913599999999995,34.0249,34.1364,34.248099999999994,34.36,34.472100000000005,34.5844,34.6969,34.809599999999996,34.9225,35.0356,35.1489,35.2624,35.3761,35.49,35.6041,35.718399999999995,35.8329,35.9476,36.0625,36.1776,36.292899999999996,36.4084,36.5241,36.64,36.756099999999996,36.872400000000006,36.9889,37.105599999999995,37.2225,37.339600000000004,37.456900000000005,37.5744,37.692099999999996,37.81,37.9281,38.0464,38.164899999999996,38.28360000000001,38.4025,38.5216,38.640899999999995,38.760400000000004,38.880100000000006,39.0,39.1201,39.240399999999994,39.3609,39.4816,39.6025,39.7236,39.8449,39.9664,40.0881,40.209999999999994,40.332100000000004,40.4544,40.5769,40.6996,40.822500000000005,40.9456,41.0689,41.1924,41.316100000000006,41.440000000000005,41.564099999999996,41.688399999999994,41.812900000000006,41.9376,42.0625,42.187599999999996,42.31289999999999,42.4384,42.5641,42.69,42.81609999999999,42.942400000000006,43.0689,43.1956,43.3225,43.449600000000004,43.5769,43.7044,43.8321,43.96000000000001,44.088100000000004,44.2164,44.344899999999996,44.473600000000005,44.6025,44.7316,44.860899999999994,44.99040000000001,45.1201,45.25,45.3801,45.5104,45.6409,45.7716,45.902499999999996,46.03359999999999,46.1649,46.2964,46.4281,46.559999999999995,46.6921,46.824400000000004,46.9569,47.0896,47.222500000000004,47.3556,47.4889,47.6224,47.7561,47.89,48.0241,48.15839999999999,48.2929,48.427600000000005,48.5625,48.697599999999994,48.832899999999995,48.9684,49.1041,49.239999999999995,49.376099999999994,49.51240000000001,49.6489,49.785599999999995,49.92249999999999,50.0596,50.1969,50.334399999999995,50.4721,50.61000000000001,50.7481,50.8864,51.024899999999995,51.1636,51.3025,51.4416,51.5809,51.720400000000005,51.8601,52.0,52.1401,52.28039999999999,52.4209,52.5616,52.7025,52.843599999999995,52.9849,53.126400000000004,53.2681,53.41,53.5521,53.6944,53.8369,53.9796,54.1225,54.2656,54.408899999999996,54.5524,54.69610000000001,54.84,54.9841,55.1284,55.27290000000001,55.4176,55.5625,55.7076,55.85289999999999,55.998400000000004,56.1441,56.29,56.436099999999996,56.58240000000001,56.7289,56.8756,57.022499999999994,57.1696,57.316900000000004,57.4644,57.6121,57.760000000000005,57.908100000000005,58.0564,58.204899999999995,58.35360000000001,58.502500000000005,58.6516,58.8009,58.95040000000001,59.100100000000005,59.25,59.400099999999995,59.550399999999996,59.700900000000004,59.8516,60.0025,60.1536,60.3049,60.4564,60.6081,60.76,60.9121,61.0644,61.216899999999995,61.3696,61.52250000000001,61.6756,61.8289,61.9824,62.136100000000006,62.290000000000006,62.4441,62.5984,62.752900000000004,62.9076,63.0625,63.2176,63.372899999999994,63.528400000000005,63.6841,63.839999999999996,63.99609999999999,64.1524,64.3089,64.4656,64.6225,64.7796,64.93690000000001,65.09440000000001,65.25209999999998,65.41,65.5681,65.7264,65.88489999999999,66.0436,66.2025,66.36160000000001,66.5209,66.6804,66.8401,67.0,67.1601,67.32039999999999,67.48089999999999,67.64159999999998,67.80250000000001,67.96360000000001,68.12490000000001,68.2864,68.4481,68.61,68.7721,68.93439999999998,69.09690000000002,69.2596,69.4225,69.5856,69.74889999999999,69.91239999999999,70.0761,70.24,70.40410000000001,70.56840000000001,70.7329,70.8976,71.0625,71.2276,71.3929,71.55839999999999,71.72409999999999,71.89000000000001,72.05610000000001,72.22240000000001,72.3889,72.5556,72.7225,72.88959999999999,73.05689999999998,73.22440000000002,73.39210000000001,73.56,73.7281,73.8964,74.0649,74.2336,74.40249999999999,74.57160000000002,74.74090000000001,74.91040000000001,75.0801,75.25,75.42009999999999,75.59039999999999,75.76089999999999,75.93159999999999,76.1025,76.2736,76.4449,76.6164,76.7881,76.96,77.1321,77.30439999999999,77.47690000000001,77.6496,77.8225,77.9956,78.1689,78.3424,78.5161,78.68999999999998,78.86410000000002,79.03840000000001,79.2129,79.3876,79.5625,79.7376,79.9129,80.0884,80.26409999999998,80.44000000000001,80.6161,80.7924,80.9689,81.1456,81.32249999999999,81.49959999999999,81.67689999999999,81.85440000000001,82.03210000000001,82.21000000000001,82.38810000000001,82.5664,82.7449,82.9236,83.10249999999999,83.28160000000001,83.46090000000001,83.64040000000001,83.82010000000001,84.0,84.1801,84.3604,84.5409,84.72159999999998,84.90250000000002,85.0836,85.26490000000001,85.4464,85.6281,85.80999999999999,85.9921,86.17439999999999,86.35690000000001,86.53960000000001,86.72250000000001,86.9056,87.0889,87.27239999999999,87.45609999999999,87.63999999999999,87.82410000000002,88.00840000000001,88.19290000000001,88.3776,88.5625,88.74759999999999,88.93289999999999,89.1184,89.30409999999999,89.49000000000001,89.6761,89.86240000000001,90.0489,90.23559999999999,90.4225,90.60959999999999,90.79689999999998,90.98440000000001,91.17210000000001,91.36000000000001,91.5481,91.7364,91.9249,92.11359999999999,92.30249999999998,92.49160000000002,92.68090000000001,92.8704,93.0601,93.25,93.4401,93.6304,93.8209,94.01159999999999,94.20250000000001,94.3936,94.5849,94.7764,94.96809999999999,95.16,95.3521,95.54439999999998,95.73690000000002,95.92960000000001,96.1225,96.3156,96.5089,96.7024,96.89609999999999,97.08999999999999,97.28410000000002,97.47840000000001,97.67290000000001,97.86760000000001,98.0625,98.2576,98.45289999999999,98.64839999999998,98.84409999999998,99.04000000000002,99.23610000000001,99.4324,99.6289,99.8256,100.0225,100.21959999999999,100.41689999999998,100.61440000000002,100.81210000000002,101.01,101.2081,101.4064,101.6049,101.80359999999999,102.00249999999998,102.20160000000001,102.40090000000001,102.60040000000001,102.8001,103.0,103.20009999999999,103.40039999999999,103.60089999999998,103.80159999999998,104.00250000000001,104.20360000000001,104.40490000000001,104.60640000000001,104.8081,105.00999999999999,105.21209999999999,105.41439999999999,105.61690000000002,105.81960000000001,106.02250000000001,106.2256,106.4289,106.63239999999999,106.83609999999999,107.03999999999999,107.24410000000002,107.4484,107.6529,107.8576,108.0625,108.2676,108.4729,108.67839999999998,108.88409999999999,109.09000000000002,109.29610000000001,109.50240000000001,109.7089,109.9156,110.12249999999999,110.32959999999999,110.53689999999999,110.74440000000001,110.95210000000002,111.16000000000001,111.3681,111.57639999999999,111.7849,111.99359999999999,112.20249999999999,112.41160000000002,112.62090000000002,112.83040000000001,113.04010000000001,113.25,113.4601,113.67039999999999,113.88089999999998,114.09159999999999,114.30250000000001,114.51360000000001,114.7249,114.9364,115.1481,115.36,115.57209999999999,115.78439999999998,115.99690000000001,116.20960000000001,116.42250000000001,116.6356,116.8489,117.0624,117.27609999999999,117.48999999999998,117.70410000000003,117.91840000000002,118.1329,118.3476,118.5625,118.77759999999999,118.99289999999999,119.20839999999998,119.42409999999998,119.64000000000001,119.85610000000001,120.0724,120.2889,120.5056,120.7225,120.93959999999998,121.15689999999998,121.37440000000002,121.59210000000002,121.81,122.02810000000001,122.2464,122.4649,122.68359999999998,122.90249999999999,123.12160000000002,123.34090000000002,123.56040000000002,123.7801]},\"selected\":{\"id\":\"1497\",\"type\":\"Selection\"},\"selection_policy\":{\"id\":\"1498\",\"type\":\"UnionRenderers\"}},\"id\":\"1386\",\"type\":\"ColumnDataSource\"},{\"attributes\":{},\"id\":\"1447\",\"type\":\"ResetTool\"},{\"attributes\":{},\"id\":\"1370\",\"type\":\"BasicTicker\"},{\"attributes\":{\"ticker\":{\"id\":\"1370\",\"type\":\"BasicTicker\"}},\"id\":\"1373\",\"type\":\"Grid\"},{\"attributes\":{\"source\":{\"id\":\"1419\",\"type\":\"ColumnDataSource\"}},\"id\":\"1423\",\"type\":\"CDSView\"},{\"attributes\":{\"callback\":null},\"id\":\"1394\",\"type\":\"DataRange1d\"},{\"attributes\":{\"data_source\":{\"id\":\"1452\",\"type\":\"ColumnDataSource\"},\"glyph\":{\"id\":\"1453\",\"type\":\"Line\"},\"hover_glyph\":null,\"muted_glyph\":null,\"nonselection_glyph\":{\"id\":\"1454\",\"type\":\"Line\"},\"selection_glyph\":null,\"view\":{\"id\":\"1456\",\"type\":\"CDSView\"}},\"id\":\"1455\",\"type\":\"GlyphRenderer\"},{\"attributes\":{},\"id\":\"1375\",\"type\":\"BasicTicker\"},{\"attributes\":{\"formatter\":{\"id\":\"1486\",\"type\":\"BasicTickFormatter\"},\"ticker\":{\"id\":\"1370\",\"type\":\"BasicTicker\"}},\"id\":\"1369\",\"type\":\"LinearAxis\"},{\"attributes\":{\"line_alpha\":0.1,\"line_color\":\"#1f77b4\",\"line_width\":2,\"x\":{\"field\":\"x\"},\"y\":{\"field\":\"y\"}},\"id\":\"1454\",\"type\":\"Line\"},{\"attributes\":{\"formatter\":{\"id\":\"1492\",\"type\":\"BasicTickFormatter\"},\"ticker\":{\"id\":\"1408\",\"type\":\"BasicTicker\"}},\"id\":\"1407\",\"type\":\"LinearAxis\"},{\"attributes\":{},\"id\":\"1488\",\"type\":\"BasicTickFormatter\"},{\"attributes\":{\"text\":\"g(x) plot\"},\"id\":\"1392\",\"type\":\"Title\"},{\"attributes\":{\"source\":{\"id\":\"1452\",\"type\":\"ColumnDataSource\"}},\"id\":\"1456\",\"type\":\"CDSView\"},{\"attributes\":{\"below\":[{\"id\":\"1435\",\"type\":\"LinearAxis\"}],\"center\":[{\"id\":\"1439\",\"type\":\"Grid\"},{\"id\":\"1444\",\"type\":\"Grid\"}],\"left\":[{\"id\":\"1440\",\"type\":\"LinearAxis\"}],\"plot_height\":300,\"plot_width\":300,\"renderers\":[{\"id\":\"1455\",\"type\":\"GlyphRenderer\"}],\"title\":{\"id\":\"1425\",\"type\":\"Title\"},\"toolbar\":{\"id\":\"1448\",\"type\":\"Toolbar\"},\"x_range\":{\"id\":\"1427\",\"type\":\"DataRange1d\"},\"x_scale\":{\"id\":\"1431\",\"type\":\"LinearScale\"},\"y_range\":{\"id\":\"1429\",\"type\":\"DataRange1d\"},\"y_scale\":{\"id\":\"1433\",\"type\":\"LinearScale\"}},\"id\":\"1424\",\"subtype\":\"Figure\",\"type\":\"Plot\"},{\"attributes\":{\"source\":{\"id\":\"1386\",\"type\":\"ColumnDataSource\"}},\"id\":\"1390\",\"type\":\"CDSView\"},{\"attributes\":{},\"id\":\"1486\",\"type\":\"BasicTickFormatter\"},{\"attributes\":{},\"id\":\"1500\",\"type\":\"UnionRenderers\"},{\"attributes\":{\"line_alpha\":0.1,\"line_color\":\"#1f77b4\",\"line_width\":2,\"x\":{\"field\":\"x\"},\"y\":{\"field\":\"y\"}},\"id\":\"1388\",\"type\":\"Line\"},{\"attributes\":{},\"id\":\"1398\",\"type\":\"LinearScale\"},{\"attributes\":{},\"id\":\"1412\",\"type\":\"PanTool\"},{\"attributes\":{\"callback\":null},\"id\":\"1396\",\"type\":\"DataRange1d\"},{\"attributes\":{},\"id\":\"1492\",\"type\":\"BasicTickFormatter\"},{\"attributes\":{},\"id\":\"1400\",\"type\":\"LinearScale\"},{\"attributes\":{},\"id\":\"1490\",\"type\":\"BasicTickFormatter\"},{\"attributes\":{},\"id\":\"1494\",\"type\":\"BasicTickFormatter\"},{\"attributes\":{\"line_color\":\"#1f77b4\",\"line_width\":2,\"x\":{\"field\":\"x\"},\"y\":{\"field\":\"y\"}},\"id\":\"1387\",\"type\":\"Line\"},{\"attributes\":{},\"id\":\"1414\",\"type\":\"ResetTool\"},{\"attributes\":{\"text\":\"h(x) plot\"},\"id\":\"1425\",\"type\":\"Title\"},{\"attributes\":{\"line_color\":\"#1f77b4\",\"line_width\":2,\"x\":{\"field\":\"x\"},\"y\":{\"field\":\"y\"}},\"id\":\"1420\",\"type\":\"Line\"},{\"attributes\":{},\"id\":\"1403\",\"type\":\"BasicTicker\"},{\"attributes\":{},\"id\":\"1408\",\"type\":\"BasicTicker\"},{\"attributes\":{\"below\":[{\"id\":\"1369\",\"type\":\"LinearAxis\"}],\"center\":[{\"id\":\"1373\",\"type\":\"Grid\"},{\"id\":\"1378\",\"type\":\"Grid\"}],\"left\":[{\"id\":\"1374\",\"type\":\"LinearAxis\"}],\"plot_height\":300,\"plot_width\":300,\"renderers\":[{\"id\":\"1389\",\"type\":\"GlyphRenderer\"}],\"title\":{\"id\":\"1359\",\"type\":\"Title\"},\"toolbar\":{\"id\":\"1382\",\"type\":\"Toolbar\"},\"x_range\":{\"id\":\"1361\",\"type\":\"DataRange1d\"},\"x_scale\":{\"id\":\"1365\",\"type\":\"LinearScale\"},\"y_range\":{\"id\":\"1363\",\"type\":\"DataRange1d\"},\"y_scale\":{\"id\":\"1367\",\"type\":\"LinearScale\"}},\"id\":\"1358\",\"subtype\":\"Figure\",\"type\":\"Plot\"},{\"attributes\":{\"formatter\":{\"id\":\"1490\",\"type\":\"BasicTickFormatter\"},\"ticker\":{\"id\":\"1403\",\"type\":\"BasicTicker\"}},\"id\":\"1402\",\"type\":\"LinearAxis\"},{\"attributes\":{\"callback\":null},\"id\":\"1363\",\"type\":\"DataRange1d\"},{\"attributes\":{},\"id\":\"1496\",\"type\":\"BasicTickFormatter\"},{\"attributes\":{\"ticker\":{\"id\":\"1403\",\"type\":\"BasicTicker\"}},\"id\":\"1406\",\"type\":\"Grid\"},{\"attributes\":{},\"id\":\"1497\",\"type\":\"Selection\"},{\"attributes\":{\"text\":\"f(x) plot\"},\"id\":\"1359\",\"type\":\"Title\"},{\"attributes\":{},\"id\":\"1498\",\"type\":\"UnionRenderers\"},{\"attributes\":{\"active_drag\":\"auto\",\"active_inspect\":\"auto\",\"active_multi\":null,\"active_scroll\":\"auto\",\"active_tap\":\"auto\",\"tools\":[{\"id\":\"1412\",\"type\":\"PanTool\"},{\"id\":\"1413\",\"type\":\"WheelZoomTool\"},{\"id\":\"1414\",\"type\":\"ResetTool\"}]},\"id\":\"1415\",\"type\":\"Toolbar\"},{\"attributes\":{},\"id\":\"1499\",\"type\":\"Selection\"},{\"attributes\":{\"data_source\":{\"id\":\"1419\",\"type\":\"ColumnDataSource\"},\"glyph\":{\"id\":\"1420\",\"type\":\"Line\"},\"hover_glyph\":null,\"muted_glyph\":null,\"nonselection_glyph\":{\"id\":\"1421\",\"type\":\"Line\"},\"selection_glyph\":null,\"view\":{\"id\":\"1423\",\"type\":\"CDSView\"}},\"id\":\"1422\",\"type\":\"GlyphRenderer\"},{\"attributes\":{},\"id\":\"1501\",\"type\":\"Selection\"},{\"attributes\":{\"callback\":null},\"id\":\"1361\",\"type\":\"DataRange1d\"},{\"attributes\":{},\"id\":\"1502\",\"type\":\"UnionRenderers\"}],\"root_ids\":[\"1457\"]},\"title\":\"Bokeh Application\",\"version\":\"1.3.4\"}};\n",
       "  var render_items = [{\"docid\":\"c8ce738e-c72b-4210-82ff-bc821c29772b\",\"roots\":{\"1457\":\"bc0dfcb2-a270-400e-bd1c-08b3ec59bd5d\"}}];\n",
       "  root.Bokeh.embed.embed_items_notebook(docs_json, render_items);\n",
       "\n",
       "  }\n",
       "  if (root.Bokeh !== undefined) {\n",
       "    embed_document(root);\n",
       "  } else {\n",
       "    var attempts = 0;\n",
       "    var timer = setInterval(function(root) {\n",
       "      if (root.Bokeh !== undefined) {\n",
       "        embed_document(root);\n",
       "        clearInterval(timer);\n",
       "      }\n",
       "      attempts++;\n",
       "      if (attempts > 100) {\n",
       "        console.log(\"Bokeh: ERROR: Unable to run BokehJS code because BokehJS library is missing\");\n",
       "        clearInterval(timer);\n",
       "      }\n",
       "    }, 10, root)\n",
       "  }\n",
       "})(window);"
      ],
      "application/vnd.bokehjs_exec.v0+json": ""
     },
     "metadata": {
      "application/vnd.bokehjs_exec.v0+json": {
       "id": "1457"
      }
     },
     "output_type": "display_data"
    }
   ],
   "source": [
    "# plot of f(x)\n",
    "p = figure(plot_width=300, plot_height=300, \n",
    "           tools='pan,wheel_zoom,reset', title=\"f(x) plot\")\n",
    "\n",
    "x = [x/100 for x in range(-500, 1100)]\n",
    "y = [f(num) for num in x]\n",
    "\n",
    "p.line(x, y, line_width=2)\n",
    "\n",
    "\n",
    "#plot of g(x)\n",
    "p2 = figure(plot_width=300, plot_height=300, \n",
    "            tools='pan,wheel_zoom,reset', title=\"g(x) plot\")\n",
    "\n",
    "x = [x/100 for x in range(-500, 1100)]\n",
    "y = [g(num) for num in x]\n",
    "\n",
    "p2.line(x, y, line_width=2)\n",
    "\n",
    "\n",
    "#plot of h(x)\n",
    "p3 = figure(plot_width=300, plot_height=300, \n",
    "            tools='pan,wheel_zoom,reset', title=\"h(x) plot\")\n",
    "\n",
    "x = [x/100 for x in range(-500, 1100)]\n",
    "y = [h(num) for num in x]\n",
    "\n",
    "p3.line(x, y, line_width=2)\n",
    "\n",
    "show(row(p, p2, p3))"
   ]
  },
  {
   "cell_type": "markdown",
   "metadata": {},
   "source": [
    "### (c) evaluate f(3x), g(3x), and h(3x)"
   ]
  },
  {
   "cell_type": "code",
   "execution_count": 9,
   "metadata": {},
   "outputs": [],
   "source": [
    "import sympy\n",
    "\n",
    "# set printing to unicode/latex\n",
    "sympy.init_printing(use_unicode=True)"
   ]
  },
  {
   "cell_type": "code",
   "execution_count": 14,
   "metadata": {},
   "outputs": [],
   "source": [
    "# define our symbols\n",
    "x = sympy.symbols('x')\n",
    "\n",
    "# make our functions using sympy\n",
    "f = x**2 + 3\n",
    "g = sympy.sqrt(x-5)\n",
    "h = x / (x-2)"
   ]
  },
  {
   "cell_type": "code",
   "execution_count": 19,
   "metadata": {},
   "outputs": [
    {
     "data": {
      "image/png": "[encoded data removed]",
      "text/latex": [
       "$\\displaystyle 9 x^{2} + 3$"
      ],
      "text/plain": [
       "   2    \n",
       "9⋅x  + 3"
      ]
     },
     "execution_count": 19,
     "metadata": {},
     "output_type": "execute_result"
    }
   ],
   "source": [
    "# evaluate functions\n",
    "f.subs(x, 3*x)"
   ]
  },
  {
   "cell_type": "code",
   "execution_count": 20,
   "metadata": {},
   "outputs": [
    {
     "data": {
      "image/png": "[encoded data removed]",
      "text/latex": [
       "$\\displaystyle \\sqrt{3 x - 5}$"
      ],
      "text/plain": [
       "  _________\n",
       "╲╱ 3⋅x - 5 "
      ]
     },
     "execution_count": 20,
     "metadata": {},
     "output_type": "execute_result"
    }
   ],
   "source": [
    "g.subs(x, 3*x)"
   ]
  },
  {
   "cell_type": "code",
   "execution_count": 21,
   "metadata": {},
   "outputs": [
    {
     "data": {
      "image/png": "[encoded data removed]",
      "text/latex": [
       "$\\displaystyle \\frac{3 x}{3 x - 2}$"
      ],
      "text/plain": [
       "  3⋅x  \n",
       "───────\n",
       "3⋅x - 2"
      ]
     },
     "execution_count": 21,
     "metadata": {},
     "output_type": "execute_result"
    }
   ],
   "source": [
    "h.subs(x, 3*x)"
   ]
  },
  {
   "cell_type": "markdown",
   "metadata": {},
   "source": [
    "### evaluate $f(x+h)$, $g(x+h)$, and $h(x+h)$\n",
    "(assuming the $h$ in $h(x+h)$ is a separate number)"
   ]
  },
  {
   "cell_type": "code",
   "execution_count": 25,
   "metadata": {},
   "outputs": [
    {
     "data": {
      "image/png": "[encoded data removed]",
      "text/latex": [
       "$\\displaystyle \\left(h + x\\right)^{2} + 3$"
      ],
      "text/plain": [
       "       2    \n",
       "(h + x)  + 3"
      ]
     },
     "execution_count": 25,
     "metadata": {},
     "output_type": "execute_result"
    }
   ],
   "source": [
    "# I'll assign the symbol 'h' to the variable y\n",
    "y = sympy.symbols(\"h\") \n",
    "\n",
    "f.subs(x, x+y)"
   ]
  },
  {
   "cell_type": "code",
   "execution_count": 23,
   "metadata": {},
   "outputs": [
    {
     "data": {
      "image/png": "[encoded data removed]",
      "text/latex": [
       "$\\displaystyle \\sqrt{h + x - 5}$"
      ],
      "text/plain": [
       "  ___________\n",
       "╲╱ h + x - 5 "
      ]
     },
     "execution_count": 23,
     "metadata": {},
     "output_type": "execute_result"
    }
   ],
   "source": [
    "g.subs(x, x+y)"
   ]
  },
  {
   "cell_type": "code",
   "execution_count": 24,
   "metadata": {},
   "outputs": [
    {
     "data": {
      "image/png": "[encoded data removed]",
      "text/latex": [
       "$\\displaystyle \\frac{h + x}{h + x - 2}$"
      ],
      "text/plain": [
       "  h + x  \n",
       "─────────\n",
       "h + x - 2"
      ]
     },
     "execution_count": 24,
     "metadata": {},
     "output_type": "execute_result"
    }
   ],
   "source": [
    "h.subs(x, x+y)"
   ]
  }
 ],
 "metadata": {
  "kernelspec": {
   "display_name": "Python 3",
   "language": "python",
   "name": "python3"
  },
  "language_info": {
   "codemirror_mode": {
    "name": "ipython",
    "version": 3
   },
   "file_extension": ".py",
   "mimetype": "text/x-python",
   "name": "python",
   "nbconvert_exporter": "python",
   "pygments_lexer": "ipython3",
   "version": "3.7.3"
  }
 },
 "nbformat": 4,
 "nbformat_minor": 4
}
